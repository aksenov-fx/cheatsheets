{
 "cells": [
  {
   "cell_type": "markdown",
   "metadata": {},
   "source": [
    "#### Basics ####"
   ]
  },
  {
   "cell_type": "code",
   "execution_count": null,
   "metadata": {
    "dotnet_interactive": {
     "language": "pwsh"
    },
    "polyglot_notebook": {
     "kernelName": "pwsh"
    },
    "vscode": {
     "languageId": "polyglot-notebook"
    }
   },
   "outputs": [],
   "source": [
    "### Getting Help\n",
    "\n",
    "    Get-Command | where CommandType -eq 'Cmdlet' | Format-Wide -Column 2\n",
    "    Get-Command -Noun Process | Format-Wide -Column 2\n",
    "\n",
    "    Get-Process -?\n",
    "    Get-Help Get-Process -Online\n",
    "    Get-Help Get-Process -ShowWindow\n",
    "    Get-Help Get-Process -Full\n",
    "\n",
    "#Powershell version\n",
    "    $PSVersionTable"
   ]
  },
  {
   "cell_type": "code",
   "execution_count": null,
   "metadata": {
    "dotnet_interactive": {
     "language": "pwsh"
    },
    "polyglot_notebook": {
     "kernelName": "pwsh"
    },
    "vscode": {
     "languageId": "polyglot-notebook"
    }
   },
   "outputs": [],
   "source": [
    "### Output\n",
    "\n",
    "    Format-Table\n",
    "    Format-Wide\n",
    "    Format-List\n",
    "    Format-Custom\n",
    "    Get-Service | Sort-Object Name | Format-List Name, Status, CanStop\n",
    "\n",
    "    Out-Default\n",
    "    Out-File\n",
    "    Out-GridView\n",
    "    Out-Host\n",
    "    Out-Null\n",
    "    Out-String\n",
    "\n",
    "    Get-Process code | Out-GridView -Title \"Процессы\" -PassThru \n",
    "    Get-Process code | Format-Table Id, ProcessName"
   ]
  },
  {
   "cell_type": "markdown",
   "metadata": {},
   "source": [
    "#### Debugging and logging ####"
   ]
  },
  {
   "cell_type": "code",
   "execution_count": null,
   "metadata": {
    "dotnet_interactive": {
     "language": "pwsh"
    },
    "polyglot_notebook": {
     "kernelName": "pwsh"
    },
    "vscode": {
     "languageId": "polyglot-notebook"
    }
   },
   "outputs": [],
   "source": [
    "# ErrorAction\n",
    "\n",
    "    $ErrorActionPreference = \"Inquire\"\n",
    "    #Continue (Default)\n",
    "    #Stop\n",
    "\n",
    "    Get-ChildItem C:\\1.txt -ErrorAction Inquire"
   ]
  },
  {
   "cell_type": "code",
   "execution_count": null,
   "metadata": {
    "dotnet_interactive": {
     "language": "pwsh"
    },
    "polyglot_notebook": {
     "kernelName": "pwsh"
    },
    "vscode": {
     "languageId": "polyglot-notebook"
    }
   },
   "outputs": [],
   "source": [
    "# Debug\n",
    "\n",
    "    Set-PSDebug -Trace 1 #1: Trace script lines as they run. 2: Trace script lines, variable assignments, function calls, and scripts.\n",
    "    Set-PSDebug -Step #script steping\n",
    "    Set-PSDebug -Off"
   ]
  },
  {
   "cell_type": "code",
   "execution_count": null,
   "metadata": {
    "dotnet_interactive": {
     "language": "pwsh"
    },
    "polyglot_notebook": {
     "kernelName": "pwsh"
    },
    "vscode": {
     "languageId": "polyglot-notebook"
    }
   },
   "outputs": [],
   "source": [
    "# Trace\n",
    "\n",
    "    Get-TraceSource | Sort-Object Name | Format-Table -AutoSize\n",
    "\n",
    "    Trace-Command -Name ParameterBinding, MemberResolution -Expression {Get-MailDomainInfo -DomainName powershellisfun.com} -PSHost\n",
    "\n",
    "    Trace-Command -Name * -Expression {Get-Process} -PSHost"
   ]
  },
  {
   "cell_type": "code",
   "execution_count": null,
   "metadata": {
    "dotnet_interactive": {
     "language": "pwsh"
    },
    "polyglot_notebook": {
     "kernelName": "pwsh"
    },
    "vscode": {
     "languageId": "polyglot-notebook"
    }
   },
   "outputs": [],
   "source": [
    "#Verbose\n",
    "\n",
    "    Copy-Item -Path \"C:\\source\\example.txt\" -Destination \"C:\\destination\\\" -Verbose\n",
    "    #VERBOSE: Performing the operation \"Copy File\" on target \"Item: C:\\source\\example.txt Destination: C:\\destination\\example.txt\".\n",
    "\n",
    "    <# Записывать данные в различные потоки можно с помощью соответствующих\n",
    "    командлетов с глаголом Write: Write-Output, Write-Error, Write-Warning, Write-\n",
    "    Verbose, Write-Debug И Write-Information.\n",
    "    Например, запишем в поток ошибок новое сообщение: #>\n",
    "\n",
    "    Write-Error -Message \"Произошла ошибка\" "
   ]
  },
  {
   "cell_type": "markdown",
   "metadata": {},
   "source": [
    "#### Working wih objects ####"
   ]
  },
  {
   "cell_type": "code",
   "execution_count": null,
   "metadata": {
    "dotnet_interactive": {
     "language": "pwsh"
    },
    "polyglot_notebook": {
     "kernelName": "pwsh"
    },
    "vscode": {
     "languageId": "polyglot-notebook"
    }
   },
   "outputs": [],
   "source": [
    "### Get-Member\n",
    "\n",
    "    $process = Get-Process | Select-Object -First 1\n",
    "    $process | Get-Member #instance methods\n",
    "    $process | Get-Member -Static #class methods\n",
    "\n",
    "    [System.Diagnostics.Process] | Get-Member -Static\n",
    "    [math] | Get-Member -Static"
   ]
  },
  {
   "cell_type": "code",
   "execution_count": null,
   "metadata": {
    "dotnet_interactive": {
     "language": "pwsh"
    },
    "polyglot_notebook": {
     "kernelName": "pwsh"
    },
    "vscode": {
     "languageId": "polyglot-notebook"
    }
   },
   "outputs": [],
   "source": [
    "# Measure-Object\n",
    "\n",
    "    dir | Measure-Object -Property Length -Sum #display sum of file sizes"
   ]
  },
  {
   "cell_type": "code",
   "execution_count": null,
   "metadata": {
    "dotnet_interactive": {
     "language": "pwsh"
    },
    "polyglot_notebook": {
     "kernelName": "pwsh"
    },
    "vscode": {
     "languageId": "polyglot-notebook"
    }
   },
   "outputs": [],
   "source": [
    "# Compare-Object\n",
    "\n",
    "    $a = @{ \"one\" =  1; \"two\"= 2 }\n",
    "    $b = @{ \"one\" =  1; \"three\" =  3; \"two\"= 22 }\n",
    "\n",
    "    Compare-Object $a $b -Passthru -IncludeEqual -ExcludeDifferent\n",
    "    Compare-Object @($a.Keys) @($b.Keys) -Passthru -IncludeEqual -ExcludeDifferent"
   ]
  },
  {
   "cell_type": "code",
   "execution_count": null,
   "metadata": {
    "dotnet_interactive": {
     "language": "pwsh"
    },
    "polyglot_notebook": {
     "kernelName": "pwsh"
    },
    "vscode": {
     "languageId": "polyglot-notebook"
    }
   },
   "outputs": [],
   "source": [
    "# Group-Object\n",
    "\n",
    "Get-Process | Group-Object Company"
   ]
  },
  {
   "cell_type": "code",
   "execution_count": null,
   "metadata": {
    "dotnet_interactive": {
     "language": "pwsh"
    },
    "polyglot_notebook": {
     "kernelName": "pwsh"
    },
    "vscode": {
     "languageId": "polyglot-notebook"
    }
   },
   "outputs": [],
   "source": [
    "# Group-Object example 1\n",
    "\n",
    "$data = @'\n",
    "Name|Number|Email|\n",
    "Bob| 23| bob.bob@test.com|\n",
    "Jeff|127|jeff.jeff@test.com|\n",
    "Jeff|129|jeff.jeff@test.com|\n",
    "Jessica|126|jessica.jessica@test.com|\n",
    "Jessica|132|jessica.jessica@test.com|\n",
    "'@ | ConvertFrom-Csv -Delimiter '|'\n",
    "\n",
    "$data | Group-Object -Property Name, Email |\n",
    "        Select @{'Name' = 'Name' ; 'Expression' = { $_.Group[0].Name } },\n",
    "        @{'Name' = 'Number' ; 'Expression' = { $_.Group.Number } },\n",
    "        @{'Name' = 'Email' ; 'Expression' = { $_.Group[0].Email } }"
   ]
  },
  {
   "cell_type": "code",
   "execution_count": null,
   "metadata": {
    "dotnet_interactive": {
     "language": "pwsh"
    },
    "polyglot_notebook": {
     "kernelName": "pwsh"
    },
    "vscode": {
     "languageId": "polyglot-notebook"
    }
   },
   "outputs": [],
   "source": [
    "# Group-Object example 2\n",
    "\n",
    "$data = @(\n",
    "    [pscustomobject]@{Id='1';Service='Service1';Propertyx=1;Price='5'}\n",
    "    [pscustomobject]@{Id='1';Service='Service2';Propertyx=1;Price='4'}\n",
    "    [pscustomobject]@{Id='2';Service='Service1';Propertyx=1;Price='17'}\n",
    ")\n",
    "\n",
    "$data |Group-Object Id\n",
    "\n",
    "$data |Group-Object Id |ForEach-Object {\n",
    "    [pscustomobject]@{\n",
    "    Id  = $_.Name\n",
    "    Sum = $_.Group |Measure-Object Price -Sum |ForEach-Object Sum\n",
    "    #Sum = $_.Group | Select Price\n",
    "    }\n",
    "}"
   ]
  },
  {
   "cell_type": "code",
   "execution_count": null,
   "metadata": {
    "dotnet_interactive": {
     "language": "pwsh"
    },
    "polyglot_notebook": {
     "kernelName": "pwsh"
    },
    "vscode": {
     "languageId": "polyglot-notebook"
    }
   },
   "outputs": [],
   "source": [
    "# Create custom object and property\n",
    "\n",
    "    $person = [PSCustomObject]@{\n",
    "        Name = \"John\"\n",
    "        Age  = 30\n",
    "    }\n",
    "\n",
    "# Add the \"Email\" property\n",
    "    $person | Add-Member -MemberType NoteProperty -Name \"Email\" -Value \"john@example.com\"\n",
    "\n",
    "# Display Name and Email\n",
    "    $person | Select-Object Name, Email"
   ]
  },
  {
   "cell_type": "markdown",
   "metadata": {},
   "source": [
    "#### Variables ####"
   ]
  },
  {
   "cell_type": "code",
   "execution_count": null,
   "metadata": {
    "dotnet_interactive": {
     "language": "pwsh"
    },
    "polyglot_notebook": {
     "kernelName": "pwsh"
    },
    "vscode": {
     "languageId": "polyglot-notebook"
    }
   },
   "outputs": [],
   "source": [
    "# Variables\n",
    "\n",
    "    $a, $b = 1, 2\n",
    "    $a = \"test1\",\"test2\""
   ]
  },
  {
   "cell_type": "code",
   "execution_count": null,
   "metadata": {
    "dotnet_interactive": {
     "language": "pwsh"
    },
    "polyglot_notebook": {
     "kernelName": "pwsh"
    },
    "vscode": {
     "languageId": "polyglot-notebook"
    }
   },
   "outputs": [],
   "source": [
    "# Types\n",
    "\n",
    "    $myVariable = (Get-ChildItem C:\\Windows).Name\n",
    "    $myVariable.GetType() #Array\n",
    "    $myVariable | Get-Member #String"
   ]
  },
  {
   "cell_type": "code",
   "execution_count": null,
   "metadata": {
    "dotnet_interactive": {
     "language": "pwsh"
    },
    "polyglot_notebook": {
     "kernelName": "pwsh"
    },
    "vscode": {
     "languageId": "polyglot-notebook"
    }
   },
   "outputs": [],
   "source": [
    "# If you had previously statically typed the variable (using something like [int]$a) \n",
    "# or if you were in a scope where $a was constrained (like inside a script or function where $a was predefined), \n",
    "# then PowerShell could throw an error when you try to reassign it to a different type, such as a hashtable.\n",
    "\n",
    "    [System.Int32]$a = 10\n",
    "    $a = \"asdf\" #error\n",
    "\n",
    "    [int]$a = 10\n",
    "    $a = [string]100.1 + [string]9.9\n",
    "    $intVariable= [double]$intVariable"
   ]
  },
  {
   "cell_type": "code",
   "execution_count": null,
   "metadata": {
    "dotnet_interactive": {
     "language": "pwsh"
    },
    "polyglot_notebook": {
     "kernelName": "pwsh"
    },
    "vscode": {
     "languageId": "polyglot-notebook"
    }
   },
   "outputs": [],
   "source": [
    "# Validation\n",
    "\n",
    "[validateRange(1,5)][int]$a = 4\n",
    "[validateLength(0,4)][string]$s = 'abed'"
   ]
  },
  {
   "cell_type": "code",
   "execution_count": null,
   "metadata": {
    "dotnet_interactive": {
     "language": "pwsh"
    },
    "polyglot_notebook": {
     "kernelName": "pwsh"
    },
    "vscode": {
     "languageId": "polyglot-notebook"
    }
   },
   "outputs": [],
   "source": [
    "# Commands for variables\n",
    "\n",
    "    Test-Path Variable:myVariable\n",
    "\n",
    "    New-Variable -Name pi -Value 3.14 -Option Constant\n",
    "\n",
    "    Remove-Variable a\n",
    "    del Variable:a"
   ]
  },
  {
   "cell_type": "code",
   "execution_count": null,
   "metadata": {
    "dotnet_interactive": {
     "language": "pwsh"
    },
    "polyglot_notebook": {
     "kernelName": "pwsh"
    },
    "vscode": {
     "languageId": "polyglot-notebook"
    }
   },
   "outputs": [],
   "source": [
    "# User input\n",
    "\n",
    "    $test = Read-Host \"Press Enter\"\n",
    "    $test = @( 'MyDesktop', 'MyLaptop', 'YourDesktop', 'Yourlaptop' ) | Out-GridView -PassThru -Title 'Select your favorite computer'"
   ]
  },
  {
   "cell_type": "markdown",
   "metadata": {},
   "source": [
    "#### Object types ####"
   ]
  },
  {
   "cell_type": "markdown",
   "metadata": {},
   "source": [
    "##### Strings #####"
   ]
  },
  {
   "cell_type": "code",
   "execution_count": null,
   "metadata": {
    "dotnet_interactive": {
     "language": "pwsh"
    },
    "polyglot_notebook": {
     "kernelName": "pwsh"
    },
    "vscode": {
     "languageId": "polyglot-notebook"
    }
   },
   "outputs": [],
   "source": [
    "# Interpolation\n",
    "\n",
    "'Строка в \"одинарных\" кавычках'\n",
    "#Строка в \"одинарных\" кавычках\n",
    "\n",
    "\"Строка в 'двойных' кавычках\"\n",
    "#Строка в 'двойных' кавычках\n",
    "\n",
    "'Строка в ''одинарных кавычках'\n",
    "#Строка в 'одинарных кавычках\n",
    "\n",
    "\"Строка в \"\"двойных кавычках\"\n",
    "#Строка в \"двойных кавычках\n",
    "\n",
    "'$a равно $a'\n",
    "#$a равно $a\n",
    "\n",
    "\"3+2 равно $(3+2)\"\n",
    "#3+2 равно 5"
   ]
  },
  {
   "cell_type": "code",
   "execution_count": null,
   "metadata": {
    "dotnet_interactive": {
     "language": "pwsh"
    },
    "polyglot_notebook": {
     "kernelName": "pwsh"
    },
    "vscode": {
     "languageId": "polyglot-notebook"
    }
   },
   "outputs": [],
   "source": [
    "# Multiline string\n",
    "\n",
    "$a=@\"\n",
    "1 Первая строка\n",
    "$(1+1) Вторая строка\n",
    "Третья строка\"\n",
    "\"@"
   ]
  },
  {
   "cell_type": "code",
   "execution_count": null,
   "metadata": {
    "dotnet_interactive": {
     "language": "pwsh"
    },
    "polyglot_notebook": {
     "kernelName": "pwsh"
    },
    "vscode": {
     "languageId": "polyglot-notebook"
    }
   },
   "outputs": [],
   "source": [
    "# Commands\n",
    "\n",
    "    Select-String '(Error|Setup)' $env:windir\\*.log"
   ]
  },
  {
   "cell_type": "code",
   "execution_count": null,
   "metadata": {
    "dotnet_interactive": {
     "language": "pwsh"
    },
    "polyglot_notebook": {
     "kernelName": "pwsh"
    },
    "vscode": {
     "languageId": "polyglot-notebook"
    }
   },
   "outputs": [],
   "source": [
    "# Regular expressions\n",
    "\n",
    "    \"file.doc\" -like \"f*.doc\""
   ]
  },
  {
   "cell_type": "markdown",
   "metadata": {},
   "source": [
    "##### DateTime #####"
   ]
  },
  {
   "cell_type": "code",
   "execution_count": null,
   "metadata": {
    "dotnet_interactive": {
     "language": "pwsh"
    },
    "polyglot_notebook": {
     "kernelName": "pwsh"
    },
    "vscode": {
     "languageId": "polyglot-notebook"
    }
   },
   "outputs": [],
   "source": [
    "# DateTime\n",
    "\n",
    "#Get date per day\n",
    "    $dl=Get-Date -Year 2021 -Month 03 -Day 08\n",
    "    $d2=Get-Date -Year 2021 -Month 02 -Day 23\n",
    "\n",
    "# Substract dates\n",
    "    ($dl-$d2).Days #12\n",
    "\n",
    "# Parsing date\n",
    "    $Date = \"18.12.2024\"\n",
    "    $DateTime = [DateTime]::ParseExact($Date, \"dd.MM.yyyy\", $null)\n",
    "    $SQLDate = $Datetime.ToString(\"yyyy-MM-dd\")\n",
    "\n",
    "# Date formats\n",
    "    (Get-Date).GetDateTimeFormats()"
   ]
  },
  {
   "cell_type": "markdown",
   "metadata": {},
   "source": [
    "##### Arrays #####"
   ]
  },
  {
   "cell_type": "code",
   "execution_count": null,
   "metadata": {
    "dotnet_interactive": {
     "language": "pwsh"
    },
    "polyglot_notebook": {
     "kernelName": "pwsh"
    },
    "vscode": {
     "languageId": "polyglot-notebook"
    }
   },
   "outputs": [],
   "source": [
    "# Arrays\n",
    "\n",
    "    $a = 1, 2\n",
    "    $b = $a\n",
    "\n",
    "    $a[0] = 3\n",
    "    $b #3,2"
   ]
  },
  {
   "cell_type": "code",
   "execution_count": null,
   "metadata": {
    "dotnet_interactive": {
     "language": "pwsh"
    },
    "polyglot_notebook": {
     "kernelName": "pwsh"
    },
    "vscode": {
     "languageId": "polyglot-notebook"
    }
   },
   "outputs": [],
   "source": [
    "# Array index\n",
    "\n",
    "    $a[1..2] #2 3\n",
    "\n",
    "    $a = 1..5\n",
    "    $a = $a[0, 1 + 3..($a.length-1)] #1 2 4 5"
   ]
  },
  {
   "cell_type": "code",
   "execution_count": null,
   "metadata": {
    "dotnet_interactive": {
     "language": "pwsh"
    },
    "polyglot_notebook": {
     "kernelName": "pwsh"
    },
    "vscode": {
     "languageId": "polyglot-notebook"
    }
   },
   "outputs": [],
   "source": [
    "# Nested arrays\n",
    "\n",
    "    $a = @(1, 2)\n",
    "    $b = @(1, 2)\n",
    "    $c =@()\n",
    "    $c += $a, $b #1 2 1 2\n",
    "\n",
    "    foreach ($obj in $c) {\"object\"} # object object\n",
    "    foreach ($obj in $c) {foreach ($o in $obj) {\"object\"}} # object object object object"
   ]
  },
  {
   "cell_type": "markdown",
   "metadata": {},
   "source": [
    "##### Hash tables #####"
   ]
  },
  {
   "cell_type": "code",
   "execution_count": null,
   "metadata": {
    "dotnet_interactive": {
     "language": "pwsh"
    },
    "polyglot_notebook": {
     "kernelName": "pwsh"
    },
    "vscode": {
     "languageId": "polyglot-notebook"
    }
   },
   "outputs": [],
   "source": [
    "# Creating, changing, getting values\n",
    "\n",
    "    $Employee_Numbers = @{\"John Doe\" = 112233; \"Dave Davis\" = 223344; \"Justine Smith\" = 334455}\n",
    "    $Employee_Numbers += @{\"Scott\" = 1;}\n",
    "    $Employee_Numbers.Add(\"Richard\",\"2\")\n",
    "\n",
    "    $Employee_Numbers.Scott = 2\n",
    "    $Employee_Numbers.Scott # 2\n",
    "    $Employee_Numbers[\"John Doe\",\"Dave Davis\"]"
   ]
  },
  {
   "cell_type": "code",
   "execution_count": 7,
   "metadata": {
    "dotnet_interactive": {
     "language": "pwsh"
    },
    "polyglot_notebook": {
     "kernelName": "pwsh"
    },
    "vscode": {
     "languageId": "polyglot-notebook"
    }
   },
   "outputs": [],
   "source": [
    "#Multiline creation syntax\n",
    "\n",
    "#Doesn't work if value is an array. \n",
    "#; at the end of the lines can be added but are not required\n",
    "\n",
    "$hash = @{\n",
    "    'About Arcane Code' = 'http://arcanecode.me'\n",
    "    ArcaneCode = 'https://arcanecode.com'\n",
    "    'ArcaneCode RedGate Articles' = 'http://arcanecode.red'\n",
    "    'ArcaneCode Github Repository' = 'http://arcanerepo.com'}"
   ]
  },
  {
   "cell_type": "code",
   "execution_count": null,
   "metadata": {
    "dotnet_interactive": {
     "language": "pwsh"
    },
    "polyglot_notebook": {
     "kernelName": "pwsh"
    },
    "vscode": {
     "languageId": "polyglot-notebook"
    }
   },
   "outputs": [],
   "source": [
    "# Iteration\n",
    "\n",
    "    foreach ($h in $hash.GetEnumerator() ) {Write-Host \"$($h.Name) : $($h.Value)\"}\n",
    "    foreach ($key in $hash.Keys) { Write-Host \"$key : $($hash[$key])\" }\n",
    "    foreach ($h in $hash.Keys) {Write-Host \"$h : $($hash.Item($h))\"}"
   ]
  },
  {
   "cell_type": "code",
   "execution_count": null,
   "metadata": {
    "dotnet_interactive": {
     "language": "pwsh"
    },
    "polyglot_notebook": {
     "kernelName": "pwsh"
    },
    "vscode": {
     "languageId": "polyglot-notebook"
    }
   },
   "outputs": [],
   "source": [
    "# Comparison\n",
    "\n",
    "    $a = @{ \"one\" =  1; \"two\"= 2 }\n",
    "    $b = @{ \"three\" =  3; \"two\"= 22 }\n",
    "    Compare-Object @($a.Keys) @($b.Keys) -Passthru -IncludeEqual -ExcludeDifferent"
   ]
  },
  {
   "cell_type": "code",
   "execution_count": null,
   "metadata": {
    "dotnet_interactive": {
     "language": "value"
    },
    "polyglot_notebook": {
     "kernelName": "value"
    },
    "vscode": {
     "languageId": "polyglot-notebook"
    }
   },
   "outputs": [],
   "source": [
    "Hash tables are unordered collections, meaning the order of elements isn't guaranteed"
   ]
  },
  {
   "cell_type": "markdown",
   "metadata": {},
   "source": [
    "#### Data structures ####"
   ]
  },
  {
   "cell_type": "code",
   "execution_count": null,
   "metadata": {
    "dotnet_interactive": {
     "language": "pwsh"
    },
    "polyglot_notebook": {
     "kernelName": "pwsh"
    },
    "vscode": {
     "languageId": "polyglot-notebook"
    }
   },
   "outputs": [],
   "source": [
    "### Multidimensional/jagged arrays\n",
    "https://powershellbyexample.dev/post/multidimensional-arrays/\n",
    "\n",
    "$array = New-Object 'object[,]' 5,8\n",
    "$array[2,5] = 'Hello'\n",
    "$array[3,7] = 'World!'\n",
    "$array\n",
    "\n",
    "###\n",
    "\n",
    "$mdarray1 = @()\n",
    "$mdarray1_counter = 0\n",
    "$mdarray1 += ,@($mdarray1_counter++, 'Earth',12742)\n",
    "$mdarray1 += ,@($mdarray1_counter++, 'Mars',6779)\n",
    "$mdarray1[1][1] #Mars\n",
    "\n",
    "#In PowerShell, the ,@ operator is called the \"array splatting\" operator. It is used to expand the elements of an array into the encl\n",
    "#In the given code, the ,@ operator is used to add the array ($mdarray1_counter++, 'Earth',12742) as a single element to the end of the $mdarray1 array. \n",
    "#Without the ,@ operator, $mdarray1 += ($mdarray1_counter++, 'Earth',12742) would add \n",
    "#the individual elements of the array to $mdarray1 instead of the entire array as a single element."
   ]
  },
  {
   "cell_type": "code",
   "execution_count": null,
   "metadata": {
    "dotnet_interactive": {
     "language": "pwsh"
    },
    "polyglot_notebook": {
     "kernelName": "pwsh"
    },
    "vscode": {
     "languageId": "polyglot-notebook"
    }
   },
   "outputs": [],
   "source": [
    "### PSObject\n",
    "\n",
    "<#$data = @'\n",
    "Name|Number|Email|\n",
    "Bob| 23| bob.bob@test.com|\n",
    "Tom|124|tom.tom@test.com|\n",
    "Jeff|125|jeff.jeff@test.com|\n",
    "Jeff|127|jeff.jeff@test.com|\n",
    "Jeff|129|jeff.jeff@test.com|\n",
    "Jessica|126|jessica.jessica@test.com|\n",
    "Jessica|132|jessica.jessica@test.com|\n",
    "'@ | ConvertFrom-Csv -Delimiter '|'\n",
    "\n",
    "$row = @'\n",
    "Name|Number|Email|\n",
    "Nikita|30|a@a.com|\n",
    "'@ | ConvertFrom-Csv -Delimiter '|'#>\n",
    "\n",
    "$data += @([pscustomobject]@{Name=\"1\";Number=\"2\";Email=\"3\"})\n",
    "\n",
    "$data | Select-Object -ExcludeProperty Name\n",
    "\n",
    "###\n",
    "\n",
    "$data += @(\n",
    "[pscustomobject]@{Id='1';Service='Service1';Propertyx=1;Price='5'}\n",
    "[pscustomobject]@{Id='1';Service='Service2';Propertyx=1;Price='4'}\n",
    "[pscustomobject]@{Id='2';Service='Service1';Propertyx=1;Price='17'})\n",
    "$data[1].id = 3\n",
    "\n",
    "###\n",
    "\n",
    "https://www.undocumented-features.com/2019/10/09/creating-an-array-with-header-columns-from-a-string-using-pscustomobject/\n",
    "\n",
    "[System.Collections.ArrayList]$ArrayWithHeader = @()\n",
    "$ArrayOfValues = @('a@b.com','b@c.com','c@d.com','d@e.com')\n",
    "foreach ($obj in $ArrayOfValues) \n",
    "{ \n",
    "    $val = [pscustomobject]@{'mail'=$obj;'date'=(Get-Date)}\n",
    "    $ArrayWithHeader.add($val) | Out-Null\n",
    "}\n",
    "\n",
    "$ArrayWithHeader\n",
    "\n",
    "###\n",
    "\n",
    "$Array0, $Array1 | ForEach-Object {\n",
    "    [PSCustomObject]@{\n",
    "        $PSItem[0].Name = $PSItem[0].Value\n",
    "        $PSItem[1].Name = $PSItem[1].Value\n",
    "    }\n",
    "}"
   ]
  },
  {
   "cell_type": "code",
   "execution_count": null,
   "metadata": {
    "dotnet_interactive": {
     "language": "pwsh"
    },
    "polyglot_notebook": {
     "kernelName": "pwsh"
    },
    "vscode": {
     "languageId": "polyglot-notebook"
    }
   },
   "outputs": [],
   "source": [
    "### Datatables\n",
    "\n",
    "$tempTable = New-Object System.Data.DataTable\n",
    "\n",
    "###Adding Columns for DataTable###\n",
    "$tempTable.columns.Add(\"col1\")\n",
    "$tempTable.columns.Add(\"col2\")\n",
    "$tempTable.columns.Add(\"col3\")\n",
    "\n",
    "#Add a row to DataTable\n",
    "\n",
    "$row = $tempTable.NewRow()\n",
    "$row[“col1”] = “RandomStringData12”\n",
    "$row[“col2”] = “RandomStringData22”\n",
    "$row[“col3”] = \"RandomStringData32\"\n",
    "$tempTable.rows.Add($row)\n",
    "\n",
    "#If you want to modify a table entry you need to select it using Where-Object or the Where() method.\n",
    "$m = $tempTable.where({$_.title -eq 'Justice League'})\n",
    "\n",
    "#Then you can modify it. The tricky part to remember is that $m is technically a collection of DataRow objects, even though there is only one.\n",
    "$m[0].comments = \"DC Comics\"\n",
    "\n",
    "#Or I could have modified it like this:\n",
    "$tempTable.where({$_.title -eq 'Justice League'}).foreach({$_.Comments = \"DC Universe\"})"
   ]
  },
  {
   "cell_type": "markdown",
   "metadata": {},
   "source": [
    "#### Flow control ####"
   ]
  },
  {
   "cell_type": "markdown",
   "metadata": {},
   "source": [
    "##### Iteration #####"
   ]
  },
  {
   "cell_type": "code",
   "execution_count": null,
   "metadata": {
    "dotnet_interactive": {
     "language": "pwsh"
    },
    "polyglot_notebook": {
     "kernelName": "pwsh"
    },
    "vscode": {
     "languageId": "polyglot-notebook"
    }
   },
   "outputs": [],
   "source": [
    "# foreach\n",
    "\n",
    "    $n = 0\n",
    "    foreach ($f in dir *.txt) { $n += $f.length }\n",
    "\n",
    "    $n = 0\n",
    "    dir *.txt | foreach { $n += length }"
   ]
  },
  {
   "cell_type": "markdown",
   "metadata": {},
   "source": [
    "##### Loops #####"
   ]
  },
  {
   "cell_type": "code",
   "execution_count": null,
   "metadata": {
    "dotnet_interactive": {
     "language": "pwsh"
    },
    "polyglot_notebook": {
     "kernelName": "pwsh"
    },
    "vscode": {
     "languageId": "polyglot-notebook"
    }
   },
   "outputs": [],
   "source": [
    "# Labeled break statement\n",
    "\n",
    "    :outerLoop while ($true) {\n",
    "        while ($true) {\n",
    "            Write-Host \"In inner loop\"\n",
    "            break outerLoop\n",
    "        }\n",
    "        Write-Host \"This will not be executed\"\n",
    "    }"
   ]
  },
  {
   "cell_type": "markdown",
   "metadata": {},
   "source": [
    "##### Conditionals #####"
   ]
  },
  {
   "cell_type": "code",
   "execution_count": null,
   "metadata": {
    "dotnet_interactive": {
     "language": "pwsh"
    },
    "polyglot_notebook": {
     "kernelName": "pwsh"
    },
    "vscode": {
     "languageId": "polyglot-notebook"
    }
   },
   "outputs": [],
   "source": [
    "# Switch example 1\n",
    "\n",
    "$msg = \"Error, the action failed\"\n",
    "\n",
    "switch ($msg) {\n",
    "    { $_ -like \"Error*\" } { \"Action error\" }\n",
    "    { $_ -like \"Warning*\" } { \"Action warning\" }\n",
    "    { $_ -like \"Successful*\" } { \"Action succesfull\" }\n",
    "}"
   ]
  },
  {
   "cell_type": "code",
   "execution_count": null,
   "metadata": {
    "dotnet_interactive": {
     "language": "pwsh"
    },
    "polyglot_notebook": {
     "kernelName": "pwsh"
    },
    "vscode": {
     "languageId": "polyglot-notebook"
    }
   },
   "outputs": [],
   "source": [
    "# Switch example 2\n",
    "\n",
    "    $a = 3\n",
    "\n",
    "    switch ($a) {\n",
    "        1 {\"Один\"}\n",
    "        2 {\"Два\"}\n",
    "        3 {\"Три\"; break}\n",
    "        4 {\"Четыре\"}\n",
    "        3 {\"Еще раз три\"}\n",
    "    }\n",
    "    #Три"
   ]
  },
  {
   "cell_type": "code",
   "execution_count": null,
   "metadata": {
    "dotnet_interactive": {
     "language": "pwsh"
    },
    "polyglot_notebook": {
     "kernelName": "pwsh"
    },
    "vscode": {
     "languageId": "polyglot-notebook"
    }
   },
   "outputs": [],
   "source": [
    "# Switch example 3\n",
    "\n",
    "    switch (3) {\n",
    "        1 {\"1\"}\n",
    "        2 {\"2\"}\n",
    "        default {\"none\"}\n",
    "    }"
   ]
  },
  {
   "cell_type": "code",
   "execution_count": null,
   "metadata": {
    "dotnet_interactive": {
     "language": "pwsh"
    },
    "polyglot_notebook": {
     "kernelName": "pwsh"
    },
    "vscode": {
     "languageId": "polyglot-notebook"
    }
   },
   "outputs": [],
   "source": [
    "# Switch example 4\n",
    "\n",
    "    switch -wildcard ('абв') {\n",
    "        'а*' {\"$_ начинается с а\"}\n",
    "        '*в' {\"$_ оканчивается на в\"}\n",
    "    }"
   ]
  },
  {
   "cell_type": "code",
   "execution_count": null,
   "metadata": {
    "dotnet_interactive": {
     "language": "pwsh"
    },
    "polyglot_notebook": {
     "kernelName": "pwsh"
    },
    "vscode": {
     "languageId": "polyglot-notebook"
    }
   },
   "outputs": [],
   "source": [
    "# Switch example 5\n",
    "\n",
    "switch (10) {\n",
    "    {$_ -gt 5} {\"$_ >5\"}\n",
    "    {$_ -lt 20} {\"$_ <20\"}\n",
    "    10 {\"$_ =10\"}\n",
    "}"
   ]
  },
  {
   "cell_type": "code",
   "execution_count": null,
   "metadata": {
    "dotnet_interactive": {
     "language": "pwsh"
    },
    "polyglot_notebook": {
     "kernelName": "pwsh"
    },
    "vscode": {
     "languageId": "polyglot-notebook"
    }
   },
   "outputs": [],
   "source": [
    "# Switch example 6\n",
    "\n",
    "switch -wildcard (dir $env:SystemRoot) {\n",
    "    *.txt {$txt++}\n",
    "    *.log {$log++} \n",
    "}"
   ]
  },
  {
   "cell_type": "code",
   "execution_count": null,
   "metadata": {
    "dotnet_interactive": {
     "language": "pwsh"
    },
    "polyglot_notebook": {
     "kernelName": "pwsh"
    },
    "vscode": {
     "languageId": "polyglot-notebook"
    }
   },
   "outputs": [],
   "source": [
    "# Switch example 7\n",
    "\n",
    "switch -wildcard -file $env:SystemRoot\\KB946627.log {\n",
    "    *Source:* {$_}\n",
    "    *Destination:* {$_}\n",
    "}"
   ]
  },
  {
   "cell_type": "markdown",
   "metadata": {},
   "source": [
    "#### Functions ####"
   ]
  },
  {
   "cell_type": "code",
   "execution_count": null,
   "metadata": {
    "dotnet_interactive": {
     "language": "pwsh"
    },
    "polyglot_notebook": {
     "kernelName": "pwsh"
    },
    "vscode": {
     "languageId": "polyglot-notebook"
    }
   },
   "outputs": [],
   "source": [
    "# Function example 1\n",
    "\n",
    "    function MyFunc { Get-Command -Noun Process }"
   ]
  },
  {
   "cell_type": "code",
   "execution_count": null,
   "metadata": {
    "vscode": {
     "languageId": "polyglot-notebook"
    }
   },
   "outputs": [],
   "source": [
    "# Function example 2 - parameters\n",
    "\n",
    "function Set-ArchiveFilePath{\n",
    "    [CmdletBinding()]\n",
    "    [OutputType([string])]\n",
    "    param(\n",
    "        [Parameter(Mandatory = $true)]\n",
    "        [string]$ZipPath,\n",
    "        [Parameter(Mandatory = $true)]\n",
    "        [string]$ZipPrefix,\n",
    "        [Parameter(Mandatory = $true)]\n",
    "        [datetime]$Date\n",
    "    )\n",
    "\n",
    "    Write-Host \"this is a function code\"\n",
    "\n",
    "}"
   ]
  },
  {
   "cell_type": "code",
   "execution_count": null,
   "metadata": {
    "vscode": {
     "languageId": "polyglot-notebook"
    }
   },
   "outputs": [],
   "source": [
    "# Function example 3\n",
    "\n",
    "    function split($items, $splitter) {\n",
    "        ForEach ($item in $items) {\n",
    "            $item -split \"\\$splitter\" \n",
    "        }\n",
    "    }\n",
    "\n",
    "    split 'asd\\f' \\ #asd, f"
   ]
  },
  {
   "cell_type": "code",
   "execution_count": null,
   "metadata": {
    "vscode": {
     "languageId": "polyglot-notebook"
    }
   },
   "outputs": [],
   "source": [
    "# Function example 4\n",
    "\n",
    "    function Output-SalesTax ( $Price, [int]$Tax ) { $Price / $Tax }\n",
    "    \n",
    "    Output-SalesTax -price 1000 -tax 38\n",
    "    Output-SalesTax -tax 38 -price 1000 \n",
    "    Output-SalesTax 1000 38"
   ]
  },
  {
   "cell_type": "code",
   "execution_count": null,
   "metadata": {
    "vscode": {
     "languageId": "polyglot-notebook"
    }
   },
   "outputs": [],
   "source": [
    "# Function example 5\n",
    "\n",
    "    function Get-UserInfo {\n",
    "        param (\n",
    "            [string]$Name,\n",
    "            [int]$Age,\n",
    "            [string]$Email\n",
    "        )\n",
    "\n",
    "        Write-Host \"Name: $Name\"\n",
    "        Write-Host \"Age: $Age\"\n",
    "        Write-Host \"Email: $Email\"\n",
    "    }\n",
    "\n",
    "    Get-UserInfo -Name \"John Doe\" -Age 30 -Email \"john.doe@example.com\""
   ]
  },
  {
   "cell_type": "code",
   "execution_count": null,
   "metadata": {
    "vscode": {
     "languageId": "polyglot-notebook"
    }
   },
   "outputs": [],
   "source": [
    "# Function example 6\n",
    "\n",
    "    function MyFunc ([switch] $recurse) {\n",
    "        if ($recurse) { \"#\"}\n",
    "        else { \"Regular function\" } }\n",
    "    MyFunc -recurse #Recursive function\n",
    "\n",
    "    #Write-host выводит строку на экран, а не в выходной поток, поэтому она не попадет в значение переменной"
   ]
  },
  {
   "cell_type": "code",
   "execution_count": null,
   "metadata": {
    "dotnet_interactive": {
     "language": "value"
    },
    "polyglot_notebook": {
     "kernelName": "value"
    },
    "vscode": {
     "languageId": "polyglot-notebook"
    }
   },
   "outputs": [],
   "source": [
    "Pipeline to a function\n",
    "\n",
    "Если в функцию могут поступать какие-либо параметры по конвейеру, то в ней\n",
    "обязательно нужно Определить раздел Process.\n",
    "Для эффективного\n",
    "использования конвейеров возвращать значения в расширенных функциях следует\n",
    "в разделе Process (напомним, что он выполняется каждый раз при получении по\n",
    "конвейеру нового объекта), а не в разделах Begin или End\n",
    "В расширенных функциях всегда нужно указывать атрибут [CmdietBindingO ],\n",
    "в этом случае функция будет вести себя как командлет, в том числе будет поддерживать\n",
    "флаги -verbose (вывод подробной информации о выполняемых командах)\n",
    "и -Debug (вывод отладочной информации)."
   ]
  },
  {
   "cell_type": "code",
   "execution_count": null,
   "metadata": {
    "vscode": {
     "languageId": "polyglot-notebook"
    }
   },
   "outputs": [],
   "source": [
    "# Pipeline to a function\n",
    "\n",
    "    function ProcessFiles {\n",
    "        param (\n",
    "            [string]$Prefix\n",
    "        )\n",
    "        \n",
    "        process {\n",
    "            # Example action: Write the name of each file with the prefix\n",
    "            Write-Host \"$($Prefix): $($_.Name)\"\n",
    "        }\n",
    "    }\n",
    "    \n",
    "    Get-ChildItem | ProcessFiles -Prefix \"File\""
   ]
  },
  {
   "cell_type": "code",
   "execution_count": null,
   "metadata": {
    "vscode": {
     "languageId": "polyglot-notebook"
    }
   },
   "outputs": [],
   "source": [
    "# Filter function to be used in a pipeline\n",
    "\n",
    "    filter FileSizeBelow($size) { if ($_.length -le $size) { $_ } }\n",
    "    gci C:\\Windows | FileSizeBelow 200kb"
   ]
  },
  {
   "cell_type": "code",
   "execution_count": null,
   "metadata": {
    "dotnet_interactive": {
     "language": "value"
    },
    "polyglot_notebook": {
     "kernelName": "value"
    },
    "vscode": {
     "languageId": "polyglot-notebook"
    }
   },
   "outputs": [],
   "source": [
    "When returning data from a function, it is best to save it to a variable in the function\n",
    "and have just that variable on the last line of the function"
   ]
  },
  {
   "cell_type": "code",
   "execution_count": null,
   "metadata": {
    "dotnet_interactive": {
     "language": "pwsh"
    },
    "polyglot_notebook": {
     "kernelName": "pwsh"
    },
    "vscode": {
     "languageId": "polyglot-notebook"
    }
   },
   "outputs": [],
   "source": [
    "# Lambda / Script-block - 1\n",
    "\n",
    "    $alert = { \"Hello World\" }\n",
    "    & $alert"
   ]
  },
  {
   "cell_type": "code",
   "execution_count": null,
   "metadata": {
    "dotnet_interactive": {
     "language": "value"
    },
    "polyglot_notebook": {
     "kernelName": "value"
    },
    "vscode": {
     "languageId": "polyglot-notebook"
    }
   },
   "outputs": [],
   "source": [
    "Lambda / Script-block - 2\n",
    "\n",
    "Each time the scriptblock is run; it will dynamically read the current value of the variable.\n",
    "When a scriptblock is run using the “&” (call) operator, updates to a variable are not reflected in the parent scope.\n",
    "When a scriptblock is run using the “.” (dot) operator, updates to a variable apply to the current scope.\n",
    "Begin {}, Process {} and End {} blocks can be added to a scriptblock, just like a function"
   ]
  },
  {
   "cell_type": "code",
   "execution_count": null,
   "metadata": {
    "vscode": {
     "languageId": "polyglot-notebook"
    }
   },
   "outputs": [],
   "source": [
    "# Lambda / Script-block - 3\n",
    "\n",
    "    $add = { param($a, $b) $a + $b }\n",
    "    $result = &$add 5 3\n",
    "    Write-Host \"Result: $result\"\n",
    "\n",
    "    $add = { 3 + 5 }\n",
    "    $result = &$add\n",
    "    Write-Host \"Result: $result\""
   ]
  },
  {
   "cell_type": "markdown",
   "metadata": {},
   "source": [
    "#### Meta ####"
   ]
  },
  {
   "cell_type": "code",
   "execution_count": null,
   "metadata": {
    "dotnet_interactive": {
     "language": "pwsh"
    },
    "polyglot_notebook": {
     "kernelName": "pwsh"
    },
    "vscode": {
     "languageId": "polyglot-notebook"
    }
   },
   "outputs": [],
   "source": [
    "# Alias\n",
    "\n",
    "Set-Alias list Get-Location\n",
    "Set-Alias np c:\\windows\\notepad.exe\n",
    "Get-Alias"
   ]
  },
  {
   "cell_type": "code",
   "execution_count": null,
   "metadata": {
    "vscode": {
     "languageId": "polyglot-notebook"
    }
   },
   "outputs": [],
   "source": [
    "# Methods\n",
    "\n",
    "$methodName = \"ToUpper\"\n",
    "$object = \"hello\"\n",
    "$object.GetType().GetMethod($methodName).Invoke($object, $null)\n",
    "\n",
    "$method = [scriptblock]::Create('\"hello\".ToUpper()')\n",
    "& $method"
   ]
  },
  {
   "cell_type": "code",
   "execution_count": null,
   "metadata": {
    "vscode": {
     "languageId": "polyglot-notebook"
    }
   },
   "outputs": [],
   "source": [
    "# Parameters\n",
    "\n",
    "# Parameter from a variable\n",
    "    $recurse = $false\n",
    "    Get-ChildItem c:\\windows -Recurse:$recurse\n",
    "\n",
    "# Parameters as hashtable\n",
    "    $GetWmiObjectParams = @{\n",
    "        Class = \"Win32_LogicalDisk\"\n",
    "        Filter = \"DriveType=3\"\n",
    "        ComputerName = \"SERVER2”\n",
    "        }\n",
    "    Get-WmiObject @GetWmiObjectParams"
   ]
  },
  {
   "cell_type": "markdown",
   "metadata": {},
   "source": [
    "#### Other ####"
   ]
  },
  {
   "cell_type": "code",
   "execution_count": null,
   "metadata": {
    "vscode": {
     "languageId": "polyglot-notebook"
    }
   },
   "outputs": [],
   "source": [
    "### Working with PSDrives and Providers\n",
    "\n",
    "    Get-PSDrive\n",
    "    Get-PSProvider\n",
    "\n",
    "    Get-ChildItem #dir, ls\n",
    "\n",
    "    New-PSDrive -Name docs -PSProvider FileSystem -Root C:\\Users\\\n",
    "\n",
    "    New-Item\n",
    "\n",
    "    Remove-Item"
   ]
  },
  {
   "cell_type": "code",
   "execution_count": null,
   "metadata": {
    "dotnet_interactive": {
     "language": "pwsh"
    },
    "polyglot_notebook": {
     "kernelName": "pwsh"
    },
    "vscode": {
     "languageId": "polyglot-notebook"
    }
   },
   "outputs": [],
   "source": [
    "# Self-Update\n",
    "\n",
    "    Copy-Item -Path $ScriptUpdateLocation -Destination $mypath -Force\n",
    "    Get-Content $ScriptUpdateLocation -Raw | Set-Content $PSCommandPath\n",
    "    #$scriptContent | Out-File -FilePath \"$PSScriptRoot\\Check_SQL_Logins_Fixed.ps1\" -Encoding utf8\n",
    "    Invoke-Expression -Command $scriptContent"
   ]
  },
  {
   "cell_type": "code",
   "execution_count": 2,
   "metadata": {
    "dotnet_interactive": {
     "language": "pwsh"
    },
    "polyglot_notebook": {
     "kernelName": "pwsh"
    },
    "vscode": {
     "languageId": "polyglot-notebook"
    }
   },
   "outputs": [],
   "source": [
    "# Bonus\n",
    "\n",
    "( 392, 330, 349, 247, 330, 349, 392, 330 ) | ForEach { [Console]::Beep( $_, 500 ) } # use 32767 for pauses"
   ]
  }
 ],
 "metadata": {
  "kernelspec": {
   "display_name": ".NET (PowerShell)",
   "language": "PowerShell",
   "name": ".net-pwsh"
  },
  "language_info": {
   "name": "pwsh"
  },
  "polyglot_notebook": {
   "kernelInfo": {
    "defaultKernelName": "pwsh",
    "items": [
     {
      "aliases": [],
      "name": "pwsh"
     }
    ]
   }
  }
 },
 "nbformat": 4,
 "nbformat_minor": 2
}
