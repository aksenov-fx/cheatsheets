{
 "cells": [
  {
   "cell_type": "markdown",
   "metadata": {},
   "source": [
    "#### Basics ####"
   ]
  },
  {
   "cell_type": "code",
   "execution_count": null,
   "metadata": {},
   "outputs": [],
   "source": [
    "### Getting Help\n",
    "\n",
    "    Get-Command | where CommandType -eq 'Cmdlet' | Format-Wide -Column 2\n",
    "    Get-Command -Noun Process | Format-Wide -Column 2\n",
    "\n",
    "    Get-Process -?\n",
    "    Get-Help Get-Process -Online\n",
    "    Get-Help Get-Process -ShowWindow\n",
    "    Get-Help Get-Process -Full\n",
    "\n",
    "    Get-Help Get-Process -Parameter *\n",
    "    Get-Help about_CommonParameters\n",
    "    \n",
    "#Powershell version\n",
    "    $PSVersionTable"
   ]
  },
  {
   "cell_type": "code",
   "execution_count": null,
   "metadata": {},
   "outputs": [],
   "source": [
    "### Output - Format\n",
    "\n",
    "    Format-Table\n",
    "    Format-Wide\n",
    "    Format-List\n",
    "    Format-Custom\n",
    "\n",
    "    Get-Service | Sort-Object Name | Format-List Name, Status, CanStop\n",
    "    Get-Process code | Format-Table Id, ProcessName"
   ]
  },
  {
   "cell_type": "code",
   "execution_count": null,
   "metadata": {},
   "outputs": [],
   "source": [
    "### Output - Out\n",
    "\n",
    "    Out-Default\n",
    "    Out-File\n",
    "    Out-GridView\n",
    "    Out-Host\n",
    "    Out-Null\n",
    "    Out-String\n",
    "\n",
    "    Get-Process code | Out-GridView -Title \"Processes\" -PassThru "
   ]
  },
  {
   "cell_type": "code",
   "execution_count": null,
   "metadata": {},
   "outputs": [],
   "source": [
    "In Powershell - a 300 ms (millisecond) delay is implemented before something is displayed in the console\n",
    "As a result, the output will not be displayed in the order the commands imply\n",
    "To prevent this proble, Out-Host might be added to the end of the pipeline to immediately display values in the console"
   ]
  },
  {
   "cell_type": "code",
   "execution_count": null,
   "metadata": {},
   "outputs": [],
   "source": [
    "# Tee-Object\n",
    "\n",
    "# The Tee-Object command is used to send output to two places at the same time. Tee-Object is used\n",
    "# to write output to a console and a file or variable\n",
    "\n",
    "    Get-Process | Tee-Object -Variable processes"
   ]
  },
  {
   "cell_type": "markdown",
   "metadata": {},
   "source": [
    "#### Parameters ####"
   ]
  },
  {
   "cell_type": "code",
   "execution_count": null,
   "metadata": {},
   "outputs": [],
   "source": [
    "Common parameters:\n",
    "\n",
    "    Debug\n",
    "    Verbose\n",
    "    ErrorAction\n",
    "    ErrorVariable\n",
    "\n",
    "    InformationAction\n",
    "    InformationVariable\n",
    "\n",
    "    WarningAction\n",
    "    WarningVariable\n",
    "\n",
    "    OutVariable\n",
    "\n",
    "    # --- #\n",
    "\n",
    "    OutBuffer - controls the number of objects that are accumulated in the output buffer before they are sent through the pipeline\n",
    "\n",
    "    # --- #\n",
    "\n",
    "    PipelineVariable - assigns the output of the cmdlet to the specified variable, and the original output is still sent through the pipeline\n",
    "    \n",
    "    Example:\n",
    "    Get-Process -PipelineVariable proc | Where-Object {$proc.Id -gt 1000}"
   ]
  },
  {
   "cell_type": "code",
   "execution_count": null,
   "metadata": {},
   "outputs": [],
   "source": [
    "Confirm and ConfirmPreference\n",
    "\n",
    "    The Confirm switch parameter and the ConfirmPreference variable can be used to decide if a com-\n",
    "    mand should prompt. The decision to prompt is based on a comparison of ConfirmPreference with\n",
    "    ConfirmImpact when set by a command author.\n",
    "\n",
    "    ConfirmPreference has four possible values:\n",
    "    - High: Prompts when command impact is High (default)\n",
    "    - Medium: Prompts when command impact is Medium or High\n",
    "    - Low: Prompts when command impact is Low, Medium, or High\n",
    "    - None: Never prompts\n",
    "\n",
    "    ConfirmImpact uses the same four values.\n",
    "\n",
    "    In Windows PowerShell, the default value for ConfirmImpact is Medium.\n",
    "    In PowerShell 7, the default value for ConfirmImpact is None. \n",
    "    If the command uses SupportsShouldProcess, then the default is Medium"
   ]
  },
  {
   "cell_type": "code",
   "execution_count": null,
   "metadata": {},
   "outputs": [],
   "source": [
    "Confirm\n",
    "\n",
    "    If the Confirm parameter is explicitly provided, the value of ConfirmPreference within the scope of the\n",
    "    command is set to Low, which will trigger any confirmation prompts.\n",
    "\n",
    "    Disable confirmation:\n",
    "    Remove-Item FileName.txt -Confirm:$false"
   ]
  },
  {
   "cell_type": "code",
   "execution_count": null,
   "metadata": {},
   "outputs": [],
   "source": [
    "ConfirmPreference\n",
    "\n",
    "    By default, the value of ConfirmPreference is High. This means that prompts will be raised when\n",
    "    ConfirmImpact for a command is High. The default value for ConfirmPreference may be viewed as\n",
    "    follows:\n",
    "    PS> $ConfirmPreference\n",
    "\n",
    "    In scripts and functions, the ConfirmImpact setting is part of the CmdletBinding attribute"
   ]
  },
  {
   "cell_type": "code",
   "execution_count": null,
   "metadata": {},
   "outputs": [],
   "source": [
    "# WhatIf\n",
    "\n",
    "    Remove-Item FileName.txt -WhatIf\n",
    "    # What if: Performing the operation \"Remove File\" on target \"C:\\Users\\whoami\\\n",
    "    # AppData\\Local\\Temp\\FileName.txt\"."
   ]
  },
  {
   "cell_type": "code",
   "execution_count": null,
   "metadata": {},
   "outputs": [],
   "source": [
    "# Parameters splatting\n",
    "\n",
    "# Parameter from a variable\n",
    "    $recurse = $false\n",
    "    Get-ChildItem c:\\windows -Recurse:$recurse\n",
    "\n",
    "# Parameters from a hashtable\n",
    "    $GetWmiObjectParams = @{\n",
    "        Class = \"Win32_LogicalDisk\"\n",
    "        Filter = \"DriveType=3\"\n",
    "        ComputerName = \"SERVER2”\n",
    "        }\n",
    "    Get-WmiObject @GetWmiObjectParams\n",
    "\n",
    "# Using backtick\n",
    "    $taskAction = New-ScheduledTaskAction `\n",
    "    -Execute pwsh.exe `\n",
    "    -Argument 'Write-Host \"hello world\""
   ]
  },
  {
   "cell_type": "code",
   "execution_count": null,
   "metadata": {},
   "outputs": [],
   "source": [
    "PassThru\n",
    "\n",
    "    The PassThru parameter is typically used with commands that do not normally generate output and\n",
    "    is used to force the command to return the object it was working with.\n",
    "\n",
    "    For example, the Start-Process command does not normally return any output. If PassThru is used,\n",
    "    it will return the process it created"
   ]
  },
  {
   "cell_type": "markdown",
   "metadata": {},
   "source": [
    "#### Debugging and logging ####"
   ]
  },
  {
   "cell_type": "code",
   "execution_count": null,
   "metadata": {},
   "outputs": [],
   "source": [
    "# ErrorAction\n",
    "\n",
    "    $ErrorActionPreference = \"Inquire\"\n",
    "    #Continue (Default)\n",
    "    #Stop\n",
    "\n",
    "    Get-ChildItem C:\\1.txt -ErrorAction Inquire"
   ]
  },
  {
   "cell_type": "code",
   "execution_count": null,
   "metadata": {},
   "outputs": [],
   "source": [
    "# Debug\n",
    "\n",
    "    Set-PSDebug -Trace 1 #1: Trace script lines as they run. 2: Trace script lines, variable assignments, function calls, and scripts.\n",
    "    Set-PSDebug -Step #script steping\n",
    "    Set-PSDebug -Off"
   ]
  },
  {
   "cell_type": "code",
   "execution_count": null,
   "metadata": {},
   "outputs": [],
   "source": [
    "# Trace\n",
    "\n",
    "    Get-TraceSource | Sort-Object Name | Format-Table -AutoSize\n",
    "\n",
    "    Trace-Command -Name ParameterBinding, MemberResolution -Expression {Get-MailDomainInfo -DomainName powershellisfun.com} -PSHost\n",
    "\n",
    "    Trace-Command -Name * -Expression {Get-Process} -PSHost"
   ]
  },
  {
   "cell_type": "code",
   "execution_count": null,
   "metadata": {},
   "outputs": [],
   "source": [
    "#Verbose\n",
    "\n",
    "    Copy-Item -Path \"C:\\source\\example.txt\" -Destination \"C:\\destination\\\" -Verbose\n",
    "    # VERBOSE: Performing the operation \"Copy File\" on target \"Item: C:\\source\\example.txt Destination: C:\\destination\\example.txt\".\n",
    "\n",
    "    # Just because a command supports common parameters does not mean it uses them. For\n",
    "    # example, Get-Process supports the Verbose parameter, yet it does not write any verbose\n",
    "    # output when Verbose is specified"
   ]
  },
  {
   "cell_type": "code",
   "execution_count": null,
   "metadata": {},
   "outputs": [],
   "source": [
    "# Output Streams commands\n",
    "\n",
    "    # Write-Output\n",
    "    # Write-Error\n",
    "    # Write-Warning\n",
    "    # Write-Verbose\n",
    "    # Write-Debug\n",
    "    # Write-Information\n",
    "\n",
    "    Write-Error -Message \"An error occured\" "
   ]
  },
  {
   "cell_type": "code",
   "execution_count": null,
   "metadata": {},
   "outputs": [],
   "source": [
    "# Start-Transcript\n",
    "\n",
    "    Start-Transcript -Path \"C:\\path\\to\\session.log\" -Append"
   ]
  },
  {
   "cell_type": "markdown",
   "metadata": {},
   "source": [
    "#### Working wih objects ####"
   ]
  },
  {
   "cell_type": "code",
   "execution_count": null,
   "metadata": {},
   "outputs": [],
   "source": [
    "### Get-Member\n",
    "\n",
    "    $process = Get-Process | Select-Object -First 1\n",
    "    $process | Get-Member #instance methods\n",
    "    $process | Get-Member -Static #class methods\n",
    "    $process.GetType()\n",
    "\n",
    "    [System.Diagnostics.Process] | Get-Member -Static\n",
    "    [math] | Get-Member -Static"
   ]
  },
  {
   "cell_type": "code",
   "execution_count": null,
   "metadata": {},
   "outputs": [],
   "source": [
    "# Add-Member, Select-Object\n",
    "\n",
    "    $person = [PSCustomObject]@{\n",
    "        Name = \"John\"\n",
    "        Age  = 30\n",
    "    }\n",
    "\n",
    "# Add the \"Email\" property\n",
    "    $person | Add-Member -MemberType NoteProperty -Name \"Email\" -Value \"john@example.com\"\n",
    "\n",
    "# Display Name and Email\n",
    "    $person | Select-Object Name, Email"
   ]
  },
  {
   "cell_type": "code",
   "execution_count": null,
   "metadata": {},
   "outputs": [],
   "source": [
    "# Add-Member example\n",
    "\n",
    "    $dir = Get-ChildItem\n",
    "    $dir | Add-Member -NotePropertyName ComputerName -NotePropertyValue $env:COMPUTERNAME\n",
    "    $dir | Get-Member ComputerName"
   ]
  },
  {
   "cell_type": "code",
   "execution_count": null,
   "metadata": {},
   "outputs": [],
   "source": [
    "# Select-Object \n",
    "\n",
    "    Get-Process -Id $PID | Select-Object *\n",
    "    Get-Process -Id $PID | Select-Object -Property Name, *Memory*\n",
    "\n",
    "# ExpandProperty\n",
    "    Get-Process | Select-Object -First 5 -ExpandProperty Name\n",
    "    #If ExpandProperty is omitted, the returned object will be a PSCustomObject object with a Name property\n",
    "    #rather than the simpler array of strings.\n",
    "\n",
    "# Unique\n",
    "    1, 1, 1, 3, 5, 2, 2, 4 | Select-Object -Unique\n",
    "    # Select-Object builds up a collection of unique objects by comparing each property of each object\n",
    "    # to every unique object that came before it in a pipeline. \n",
    "    # When working with strings, the comparison used by Select-Object is case-sensitive\n",
    "\n",
    "# PropertySet\n",
    "    Get-Process -Id $PID | Select-Object -Property PSConfiguration"
   ]
  },
  {
   "cell_type": "code",
   "execution_count": null,
   "metadata": {},
   "outputs": [],
   "source": [
    "# Sort-Object\n",
    "\n",
    "# Sort-Object can be used to make a set of values unique, but unlike Select-Object, comparisons\n",
    "# between objects are not case-sensitive\n",
    "\n",
    "    'dog', 'dog', 'cat', 'cat', 'mouse', 'Mouse' | Sort-Object -Unique"
   ]
  },
  {
   "cell_type": "code",
   "execution_count": null,
   "metadata": {},
   "outputs": [],
   "source": [
    "# Where-Object\n",
    "    Get-Process | Where-Object StartTime -gt (Get-Date 9:00:00)\n",
    "\n",
    "    Get-Service | Where-Object {\n",
    "        $_.StartType -eq 'Manual' -and\n",
    "        $_.Status -eq 'Running'\n",
    "    }"
   ]
  },
  {
   "cell_type": "code",
   "execution_count": null,
   "metadata": {},
   "outputs": [],
   "source": [
    "# Measure-Object\n",
    "\n",
    "    dir | Measure-Object -Property Length -Sum #display sum of file sizes"
   ]
  },
  {
   "cell_type": "code",
   "execution_count": null,
   "metadata": {},
   "outputs": [],
   "source": [
    "# Compare-Object\n",
    "\n",
    "    $a = @{ \"one\" =  1; \"two\"= 2 }\n",
    "    $b = @{ \"one\" =  1; \"three\" =  3; \"two\"= 22 }\n",
    "\n",
    "    Compare-Object $a $b -Passthru -IncludeEqual -ExcludeDifferent\n",
    "    Compare-Object @($a.Keys) @($b.Keys) -Passthru -IncludeEqual -ExcludeDifferent"
   ]
  },
  {
   "cell_type": "code",
   "execution_count": null,
   "metadata": {},
   "outputs": [],
   "source": [
    "# Group-Object\n",
    "\n",
    "Get-Process | Group-Object Company"
   ]
  },
  {
   "cell_type": "code",
   "execution_count": null,
   "metadata": {},
   "outputs": [],
   "source": [
    "# Group-Object example 1\n",
    "\n",
    "$data = @'\n",
    "Name|Number|Email|\n",
    "Bob| 23| bob.bob@test.com|\n",
    "Jeff|127|jeff.jeff@test.com|\n",
    "Jeff|129|jeff.jeff@test.com|\n",
    "Jessica|126|jessica.jessica@test.com|\n",
    "Jessica|132|jessica.jessica@test.com|\n",
    "'@ | ConvertFrom-Csv -Delimiter '|'\n",
    "\n",
    "$data | Group-Object -Property Name, Email |\n",
    "        Select @{'Name' = 'Name' ; 'Expression' = { $_.Group[0].Name } },\n",
    "        @{'Name' = 'Number' ; 'Expression' = { $_.Group.Number } },\n",
    "        @{'Name' = 'Email' ; 'Expression' = { $_.Group[0].Email } }"
   ]
  },
  {
   "cell_type": "code",
   "execution_count": null,
   "metadata": {},
   "outputs": [],
   "source": [
    "# Group-Object example 2\n",
    "\n",
    "$data = @(\n",
    "    [pscustomobject]@{Id='1';Service='Service1';Propertyx=1;Price='5'}\n",
    "    [pscustomobject]@{Id='1';Service='Service2';Propertyx=1;Price='4'}\n",
    "    [pscustomobject]@{Id='2';Service='Service1';Propertyx=1;Price='17'}\n",
    ")\n",
    "\n",
    "$data |Group-Object Id\n",
    "\n",
    "$data |Group-Object Id |ForEach-Object {\n",
    "    [pscustomobject]@{\n",
    "    Id  = $_.Name\n",
    "    Sum = $_.Group |Measure-Object Price -Sum |ForEach-Object Sum\n",
    "    #Sum = $_.Group | Select Price\n",
    "    }\n",
    "}"
   ]
  },
  {
   "cell_type": "markdown",
   "metadata": {},
   "source": [
    "#### Variables ####"
   ]
  },
  {
   "cell_type": "code",
   "execution_count": null,
   "metadata": {},
   "outputs": [],
   "source": [
    "# Variables\n",
    "\n",
    "    $a, $b = 1, 2\n",
    "    $a = \"test1\",\"test2\"\n",
    "\n",
    "    ${env:Path)}"
   ]
  },
  {
   "cell_type": "code",
   "execution_count": null,
   "metadata": {},
   "outputs": [],
   "source": [
    "# Types\n",
    "\n",
    "    $myVariable = (Get-ChildItem C:\\Windows).Name\n",
    "    $myVariable.GetType() #Array\n",
    "    $myVariable | Get-Member #String"
   ]
  },
  {
   "cell_type": "code",
   "execution_count": null,
   "metadata": {},
   "outputs": [],
   "source": [
    "# If you had previously statically typed the variable (using something like [int]$a) \n",
    "# or if you were in a scope where $a was constrained (like inside a script or function where $a was predefined), \n",
    "# then PowerShell could throw an error when you try to reassign it to a different type, such as a hashtable.\n",
    "\n",
    "    [System.Int32]$a = 10\n",
    "    $a = \"asdf\" #error\n",
    "\n",
    "    [int]$a = 10\n",
    "    $a = [string]100.1 + [string]9.9\n",
    "    $intVariable= [double]$intVariable"
   ]
  },
  {
   "cell_type": "code",
   "execution_count": null,
   "metadata": {},
   "outputs": [],
   "source": [
    "# Validation\n",
    "\n",
    "    [validateRange(1,5)][int]$a = 4\n",
    "    [validateLength(0,4)][string]$s = 'abed'"
   ]
  },
  {
   "cell_type": "code",
   "execution_count": null,
   "metadata": {},
   "outputs": [],
   "source": [
    "# Commands for variables\n",
    "\n",
    "    New-Variable -Name pi -Value 3.14 #-Option Constant\n",
    "\n",
    "    #Get-Variable | Select-Object Name, Description\n",
    "\n",
    "    Test-Path Variable:pi\n",
    "\n",
    "    Set-Variable pi -Value 3.1415\n",
    "\n",
    "    Clear-Variable pi\n",
    "\n",
    "    Remove-Variable pi -Force"
   ]
  },
  {
   "cell_type": "code",
   "execution_count": null,
   "metadata": {},
   "outputs": [],
   "source": [
    "# User input\n",
    "\n",
    "    $test = Read-Host \"Press Enter\"\n",
    "    $test = @( 'MyDesktop', 'MyLaptop', 'YourDesktop', 'Yourlaptop' ) | Out-GridView -PassThru -Title 'Select your favorite computer'"
   ]
  },
  {
   "cell_type": "code",
   "execution_count": null,
   "metadata": {},
   "outputs": [],
   "source": [
    "Variable scopes\n",
    "\n",
    "    There are three named scopes:\n",
    "\n",
    "        Global\n",
    "        Script\n",
    "        Local\n",
    "\n",
    "    Global is the topmost scope; it is the scope the prompt in the console uses and is available to all child\n",
    "    scopes.\n",
    "\n",
    "    The Script scope, as the name suggests, is specific to a single script. Script scoped items are available\n",
    "    to all child scopes (such as functions) within that script. The Script scope is also available in modules,\n",
    "    making it an ideal place to store variables that should be shared within a module.\n",
    "\n",
    "    Local is the current scope and is therefore relative. In the console, the Local scope is also the Global\n",
    "    scope. In a script, the Local scope is the Script scope. Functions and script blocks also have a Local\n",
    "    scope of their own.\n",
    "\n",
    "    By default, variables are created in the current scope, the Local scope. However, variables can be\n",
    "    accessed from the Local scope or any parent scope."
   ]
  },
  {
   "cell_type": "code",
   "execution_count": null,
   "metadata": {},
   "outputs": [],
   "source": [
    "# Scope modifier\n",
    "\n",
    "    $Global:variableName = 1\n",
    "    $Script:variableName2 = 2\n",
    "    $Local:variableName3 = 3"
   ]
  },
  {
   "cell_type": "code",
   "execution_count": null,
   "metadata": {},
   "outputs": [],
   "source": [
    "# Scope example 1\n",
    "\n",
    "    function first {\n",
    "        $first = $name = 'first'\n",
    "    second\n",
    "    }\n",
    "    function second {\n",
    "        $second = $name = 'second'\n",
    "    third\n",
    "    }\n",
    "    function third {\n",
    "        \"The value of first is $first\"\n",
    "    }\n",
    "\n",
    "    first"
   ]
  },
  {
   "cell_type": "code",
   "execution_count": null,
   "metadata": {},
   "outputs": [],
   "source": [
    "# Scope example 2\n",
    "\n",
    "    function first {\n",
    "        $first = $name = 'first'\n",
    "    }\n",
    "\n",
    "    function second {\n",
    "        $second = $name = 'second'\n",
    "    }\n",
    "\n",
    "    function third {\n",
    "        \"The value of first is $first\"\n",
    "    }\n",
    "\n",
    "    third #The value of first i\n",
    "    $first = 1\n",
    "    third #The value of first is 1"
   ]
  },
  {
   "cell_type": "code",
   "execution_count": null,
   "metadata": {},
   "outputs": [],
   "source": [
    "# Private variable\n",
    "\n",
    "    New-Variable -Name thisValue -Option Private\n",
    "    $private:thisValue = \"Some value\""
   ]
  },
  {
   "cell_type": "markdown",
   "metadata": {},
   "source": [
    "#### Object types ####"
   ]
  },
  {
   "cell_type": "markdown",
   "metadata": {},
   "source": [
    "##### Strings #####"
   ]
  },
  {
   "cell_type": "code",
   "execution_count": null,
   "metadata": {},
   "outputs": [],
   "source": [
    "# Interpolation\n",
    "\n",
    "    'Строка в \"одинарных\" кавычках'\n",
    "    #Строка в \"одинарных\" кавычках\n",
    "\n",
    "    \"Строка в 'двойных' кавычках\"\n",
    "    #Строка в 'двойных' кавычках\n",
    "\n",
    "    'Строка в ''одинарных кавычках'\n",
    "    #Строка в 'одинарных кавычках\n",
    "\n",
    "    \"Строка в \"\"двойных кавычках\"\n",
    "    #Строка в \"двойных кавычках\n",
    "\n",
    "    '$a равно $a'\n",
    "    #$a равно $a\n",
    "\n",
    "    \"3+2 равно $(3+2)\"\n",
    "    #3+2 равно 5\n",
    "\n",
    "    \"Computer Name: $env:COMPUTERNAME\"\n",
    "\n",
    "    # Wrong - returns an error\n",
    "    \"$ComputerName: Running PS $PSEdition\"\n",
    "\n",
    "    # Right\n",
    "    $computerName = $env:COMPUTERNAME\n",
    "    \"${ComputerName}: $($ComputerName.Length) characters long\""
   ]
  },
  {
   "cell_type": "code",
   "execution_count": null,
   "metadata": {},
   "outputs": [],
   "source": [
    "# Multiline string\n",
    "\n",
    "$a=@\"\n",
    "1 Первая строка\n",
    "$(1+1) Вторая строка\n",
    "Третья строка\"\n",
    "\"@"
   ]
  },
  {
   "cell_type": "code",
   "execution_count": null,
   "metadata": {},
   "outputs": [],
   "source": [
    "# Commands\n",
    "\n",
    "    Select-String '(Error|Setup)' $env:windir\\*.log"
   ]
  },
  {
   "cell_type": "code",
   "execution_count": null,
   "metadata": {},
   "outputs": [],
   "source": [
    "# Replace\n",
    "\n",
    "    'abababab' -replace 'a', 'c'\n",
    "    'abababab' -replace 'a'"
   ]
  },
  {
   "cell_type": "code",
   "execution_count": null,
   "metadata": {},
   "outputs": [],
   "source": [
    "# Split\n",
    "\n",
    "    'a1b2c3d4' -split '[0-9]'"
   ]
  },
  {
   "cell_type": "code",
   "execution_count": null,
   "metadata": {},
   "outputs": [],
   "source": [
    "# Join\n",
    "\n",
    "    -join ('hello', 'world')\n",
    "    'a', 'b', 'c', 'd' -join \"`t\""
   ]
  },
  {
   "cell_type": "code",
   "execution_count": null,
   "metadata": {},
   "outputs": [],
   "source": [
    "# Regular expressions\n",
    "\n",
    "    \"file.doc\" -like \"f*.doc\""
   ]
  },
  {
   "cell_type": "markdown",
   "metadata": {},
   "source": [
    "##### DateTime #####"
   ]
  },
  {
   "cell_type": "code",
   "execution_count": null,
   "metadata": {},
   "outputs": [],
   "source": [
    "# DateTime\n",
    "\n",
    "#Get date per day\n",
    "    $dl=Get-Date -Year 2021 -Month 03 -Day 08\n",
    "    $d2=Get-Date -Year 2021 -Month 02 -Day 23\n",
    "\n",
    "# Substract dates\n",
    "    ($dl-$d2).Days #12\n",
    "\n",
    "# Parsing date\n",
    "    $Date = \"18.12.2024\"\n",
    "    $DateTime = [DateTime]::ParseExact($Date, \"dd.MM.yyyy\", $null)\n",
    "    $SQLDate = $Datetime.ToString(\"yyyy-MM-dd\")\n",
    "\n",
    "# Date formats\n",
    "    (Get-Date).GetDateTimeFormats()"
   ]
  },
  {
   "cell_type": "markdown",
   "metadata": {},
   "source": [
    "##### Arrays #####"
   ]
  },
  {
   "cell_type": "code",
   "execution_count": null,
   "metadata": {},
   "outputs": [],
   "source": [
    "# Arrays\n",
    "\n",
    "    $a = 1..5\n",
    "    $b = $a\n",
    "\n",
    "    $a[0] = 3\n",
    "    $b"
   ]
  },
  {
   "cell_type": "code",
   "execution_count": null,
   "metadata": {},
   "outputs": [],
   "source": [
    "# Array index\n",
    "\n",
    "    $a[1..2] \n",
    "    \"\"\n",
    "    $a.indexof(2) #1\n",
    "    \"\"\n",
    "    $a[0, 1 + 3..($a.length-1)]"
   ]
  },
  {
   "cell_type": "code",
   "execution_count": null,
   "metadata": {},
   "outputs": [],
   "source": [
    "# Comparison operators\n",
    "\n",
    "    $a -gt 3 -lt 5\n",
    "\n",
    "    $a | Where-Object { $_ -lt 5 -and $_ -gt 3 }\n",
    "\n",
    "    # The Where method is faster than Where-Object but will raise an error if the variable is not an array.\n",
    "    $a.where{ $_ -lt 5 -and $_ -gt 3 }"
   ]
  },
  {
   "cell_type": "code",
   "execution_count": null,
   "metadata": {},
   "outputs": [],
   "source": [
    "# Removing elements by index\n",
    "\n",
    "    $oldArray = 1..100\n",
    "    $newArray = $oldArray[0..48] + $oldArray[50..99]"
   ]
  },
  {
   "cell_type": "code",
   "execution_count": null,
   "metadata": {},
   "outputs": [],
   "source": [
    "# Nested arrays\n",
    "\n",
    "    $a = @(1, 2)\n",
    "    $b = @(1, 2)\n",
    "    $c =@()\n",
    "    $c += $a, $b #1 2 1 2\n",
    "\n",
    "    foreach ($obj in $c) {\"object\"} # object object\n",
    "    foreach ($obj in $c) {foreach ($o in $obj) {\"object\"}} # object object object object"
   ]
  },
  {
   "cell_type": "markdown",
   "metadata": {},
   "source": [
    "##### Hash tables #####"
   ]
  },
  {
   "cell_type": "code",
   "execution_count": null,
   "metadata": {},
   "outputs": [],
   "source": [
    "# Creating, changing, getting values\n",
    "\n",
    "    $Employee_Numbers = @{\"John Doe\" = 112233; \"Dave Davis\" = 223344; \"Justine Smith\" = 334455}\n",
    "    $Employee_Numbers += @{\"Scott\" = 1;}\n",
    "    $Employee_Numbers.Add(\"Richard\",\"2\")\n",
    "\n",
    "    $Employee_Numbers.Scott = 2\n",
    "    $Employee_Numbers['Scott'] # 2\n",
    "    $Employee_Numbers[\"John Doe\",\"Dave Davis\"]\n",
    "\n",
    "    $Employee_Numbers.Remove('Scott')"
   ]
  },
  {
   "cell_type": "code",
   "execution_count": null,
   "metadata": {},
   "outputs": [],
   "source": [
    "#Multiline creation syntax\n",
    "\n",
    "#Doesn't work if value is an array. \n",
    "#; at the end of the lines can be added but are not required\n",
    "\n",
    "$hash = @{\n",
    "    'About Arcane Code' = 'http://arcanecode.me'\n",
    "    ArcaneCode = 'https://arcanecode.com'\n",
    "    'ArcaneCode RedGate Articles' = 'http://arcanecode.red'\n",
    "    'ArcaneCode Github Repository' = 'http://arcanerepo.com'}"
   ]
  },
  {
   "cell_type": "code",
   "execution_count": null,
   "metadata": {},
   "outputs": [],
   "source": [
    "# Iteration\n",
    "\n",
    "    foreach ($h in $hash.GetEnumerator() ) {Write-Host \"$($h.Name) : $($h.Value)\"}\n",
    "    foreach ($key in $hash.Keys) { Write-Host \"$key : $($hash[$key])\" }\n",
    "    foreach ($h in $hash.Keys) {Write-Host \"$h : $($hash.Item($h))\"}"
   ]
  },
  {
   "cell_type": "code",
   "execution_count": null,
   "metadata": {},
   "outputs": [],
   "source": [
    "# ContainsKey method\n",
    "\n",
    "    if (-not $hashtable.ContainsKey('Key3')) {\n",
    "    $hashtable.Key3 = 'Value3'\n",
    "    }"
   ]
  },
  {
   "cell_type": "code",
   "execution_count": null,
   "metadata": {},
   "outputs": [],
   "source": [
    "# Comparison\n",
    "\n",
    "    $a = @{ \"one\" =  1; \"two\"= 2 }\n",
    "    $b = @{ \"three\" =  3; \"two\"= 22 }\n",
    "    Compare-Object @($a.Keys) @($b.Keys) -Passthru -IncludeEqual -ExcludeDifferent"
   ]
  },
  {
   "cell_type": "code",
   "execution_count": null,
   "metadata": {},
   "outputs": [],
   "source": [
    "# OrderedDictionary\n",
    "\n",
    "    #Hash tables are unordered collections, meaning the order of elements isn't guaranteed\n",
    "    #An OrderedDictionary preserves the order in which keys were added:\n",
    "\n",
    "    $ordered = [Ordered]@{\n",
    "        One = 1\n",
    "        Two = 2\n",
    "        Three = 3\n",
    "    }"
   ]
  },
  {
   "cell_type": "markdown",
   "metadata": {},
   "source": [
    "##### Type conversion #####"
   ]
  },
  {
   "cell_type": "code",
   "execution_count": null,
   "metadata": {},
   "outputs": [],
   "source": [
    "# -as and -is\n",
    "    \"1\" -as [Int32]\n",
    "    \n",
    "    'string' -is [String]\n",
    "    1 -is [Int32]\n",
    "    [String] -is [Type]\n",
    "    123 -isnot [String]"
   ]
  },
  {
   "cell_type": "markdown",
   "metadata": {},
   "source": [
    "#### Data structures ####"
   ]
  },
  {
   "cell_type": "code",
   "execution_count": null,
   "metadata": {},
   "outputs": [],
   "source": [
    "# Multidimensional/jagged arrays\n",
    "# https://powershellbyexample.dev/post/multidimensional-arrays/\n",
    "\n",
    "    $array = New-Object 'object[,]' 5,8\n",
    "    $array[2,5] = 'Hello'\n",
    "    $array[3,7] = 'World!'\n",
    "    $array\n",
    "\n",
    "    ###\n",
    "\n",
    "    $mdarray1 = @()\n",
    "    $mdarray1_counter = 0\n",
    "    $mdarray1 += ,@($mdarray1_counter++, 'Earth',12742)\n",
    "    $mdarray1 += ,@($mdarray1_counter++, 'Mars',6779)\n",
    "    $mdarray1[1][1] #Mars\n",
    "\n",
    "#In PowerShell, the ,@ operator is called the \"array splatting\" operator. It is used to expand the elements of an array into the encl\n",
    "#In the given code, the ,@ operator is used to add the array ($mdarray1_counter++, 'Earth',12742) as a single element to the end of the $mdarray1 array. \n",
    "#Without the ,@ operator, $mdarray1 += ($mdarray1_counter++, 'Earth',12742) would add \n",
    "#the individual elements of the array to $mdarray1 instead of the entire array as a single element."
   ]
  },
  {
   "cell_type": "code",
   "execution_count": null,
   "metadata": {},
   "outputs": [],
   "source": [
    "### PSObject\n",
    "\n",
    "<#$data = @'\n",
    "Name|Number|Email|\n",
    "Bob| 23| bob.bob@test.com|\n",
    "Tom|124|tom.tom@test.com|\n",
    "Jeff|125|jeff.jeff@test.com|\n",
    "Jeff|127|jeff.jeff@test.com|\n",
    "Jeff|129|jeff.jeff@test.com|\n",
    "Jessica|126|jessica.jessica@test.com|\n",
    "Jessica|132|jessica.jessica@test.com|\n",
    "'@ | ConvertFrom-Csv -Delimiter '|'\n",
    "\n",
    "$row = @'\n",
    "Name|Number|Email|\n",
    "Nikita|30|a@a.com|\n",
    "'@ | ConvertFrom-Csv -Delimiter '|'#>\n",
    "\n",
    "    $data += @([pscustomobject]@{Name=\"1\";Number=\"2\";Email=\"3\"})\n",
    "\n",
    "    $data | Select-Object -ExcludeProperty Name\n",
    "\n",
    "    ###\n",
    "\n",
    "    $data += @(\n",
    "    [pscustomobject]@{Id='1';Service='Service1';Propertyx=1;Price='5'}\n",
    "    [pscustomobject]@{Id='1';Service='Service2';Propertyx=1;Price='4'}\n",
    "    [pscustomobject]@{Id='2';Service='Service1';Propertyx=1;Price='17'})\n",
    "    $data[1].id = 3\n",
    "\n",
    "###\n",
    "\n",
    "#https://www.undocumented-features.com/2019/10/09/creating-an-array-with-header-columns-from-a-string-using-pscustomobject/\n",
    "\n",
    "[System.Collections.ArrayList]$ArrayWithHeader = @()\n",
    "$ArrayOfValues = @('a@b.com','b@c.com','c@d.com','d@e.com')\n",
    "foreach ($obj in $ArrayOfValues) \n",
    "{ \n",
    "    $val = [pscustomobject]@{'mail'=$obj;'date'=(Get-Date)}\n",
    "    $ArrayWithHeader.add($val) | Out-Null\n",
    "}\n",
    "\n",
    "$ArrayWithHeader\n",
    "\n",
    "###\n",
    "\n",
    "$Array0, $Array1 | ForEach-Object {\n",
    "    [PSCustomObject]@{\n",
    "        $PSItem[0].Name = $PSItem[0].Value\n",
    "        $PSItem[1].Name = $PSItem[1].Value\n",
    "    }\n",
    "}"
   ]
  },
  {
   "cell_type": "code",
   "execution_count": null,
   "metadata": {},
   "outputs": [],
   "source": [
    "### Datatables\n",
    "\n",
    "    $tempTable = New-Object System.Data.DataTable\n",
    "\n",
    "    ###Adding Columns for DataTable###\n",
    "    $tempTable.columns.Add(\"col1\")\n",
    "    $tempTable.columns.Add(\"col2\")\n",
    "    $tempTable.columns.Add(\"col3\")\n",
    "\n",
    "    #Add a row to DataTable\n",
    "\n",
    "    $row = $tempTable.NewRow()\n",
    "    $row[“col1”] = “RandomStringData12”\n",
    "    $row[“col2”] = “RandomStringData22”\n",
    "    $row[“col3”] = \"RandomStringData32\"\n",
    "    $tempTable.rows.Add($row)\n",
    "\n",
    "    #If you want to modify a table entry you need to select it using Where-Object or the Where() method.\n",
    "    $m = $tempTable.where({$_.title -eq 'Justice League'})\n",
    "\n",
    "    #Then you can modify it. The tricky part to remember is that $m is technically a collection of DataRow objects, even though there is only one.\n",
    "    $m[0].comments = \"DC Comics\"\n",
    "\n",
    "    #Or I could have modified it like this:\n",
    "    $tempTable.where({$_.title -eq 'Justice League'}).foreach({$_.Comments = \"DC Universe\"})"
   ]
  },
  {
   "cell_type": "markdown",
   "metadata": {},
   "source": [
    "#### Flow control ####"
   ]
  },
  {
   "cell_type": "markdown",
   "metadata": {},
   "source": [
    "##### Comparisons #####"
   ]
  },
  {
   "cell_type": "code",
   "execution_count": null,
   "metadata": {},
   "outputs": [],
   "source": [
    "# -like with string\n",
    "\n",
    "    $value = 'one'\n",
    "    $value -like 't*'\n",
    "    $value -notlike \"t*\""
   ]
  },
  {
   "cell_type": "code",
   "execution_count": null,
   "metadata": {},
   "outputs": [],
   "source": [
    "# -like with array\n",
    "\n",
    "    $value = @('one', 'two', 'three')\n",
    "    $value -notlike 't*'"
   ]
  },
  {
   "cell_type": "code",
   "execution_count": null,
   "metadata": {},
   "outputs": [],
   "source": [
    "# -match with array\n",
    "\n",
    "    \"one\", \"two\", \"three\" -match 'e'"
   ]
  },
  {
   "cell_type": "code",
   "execution_count": null,
   "metadata": {},
   "outputs": [],
   "source": [
    "# matches\n",
    "\n",
    "    'Group one, Group two' -match 'Group (.*), Group (.*)'\n",
    "    $matches\n",
    "\n",
    "# The $matches variable is an automatically filled hashtable\n",
    "# When -match is used against an array, the $matches variable is not set."
   ]
  },
  {
   "cell_type": "code",
   "execution_count": null,
   "metadata": {},
   "outputs": [],
   "source": [
    "# Left side comparison\n",
    "\n",
    "    $array = 1, 2, $null, $null\n",
    "    if ($array -eq $null) { Write-Host 'No values in array' }\n",
    "    #No values in array"
   ]
  },
  {
   "cell_type": "code",
   "execution_count": null,
   "metadata": {},
   "outputs": [],
   "source": [
    "# Right side comparison\n",
    "\n",
    "    $array = 1, 2, $null, $null\n",
    "    if ($null -eq $array) { Write-Host 'Variable not set' }\n",
    "    #"
   ]
  },
  {
   "cell_type": "code",
   "execution_count": null,
   "metadata": {},
   "outputs": [],
   "source": [
    "# Null-coalescing operator\n",
    "\n",
    "    $valueA ?? 'Default value'"
   ]
  },
  {
   "cell_type": "code",
   "execution_count": null,
   "metadata": {},
   "outputs": [],
   "source": [
    "# Null-coalescing assignment\n",
    "\n",
    "    $valueA ??= 'Default value'"
   ]
  },
  {
   "cell_type": "code",
   "execution_count": null,
   "metadata": {},
   "outputs": [],
   "source": [
    "#Null conditional\n",
    "\n",
    "    $someObject.ToString() #error\n",
    "    ${someObject}?.ToString()\n",
    "\n",
    "    $someOtherObject = [PSCustomObject]@{ Value = $null }\n",
    "    $someOtherObject.Value?.ToString()"
   ]
  },
  {
   "cell_type": "code",
   "execution_count": null,
   "metadata": {},
   "outputs": [],
   "source": [
    "# Chain operators\n",
    "\n",
    "    Get-Item DoesNotExist -ErrorAction Ignore && Write-Host 'Exists'\n",
    "    Get-Item DoesNotExist -ErrorAction Ignore || Write-Host 'Does not exist'"
   ]
  },
  {
   "cell_type": "markdown",
   "metadata": {},
   "source": [
    "##### Iteration #####"
   ]
  },
  {
   "cell_type": "code",
   "execution_count": null,
   "metadata": {},
   "outputs": [],
   "source": [
    "# foreach\n",
    "\n",
    "    $n = 0\n",
    "    foreach ($f in dir *.txt) { $n += $f.length }\n",
    "\n",
    "    $n = 0\n",
    "    dir *.txt | foreach { $n += length }"
   ]
  },
  {
   "cell_type": "code",
   "execution_count": null,
   "metadata": {},
   "outputs": [],
   "source": [
    "@(\n",
    "    Get-Date '01/01/2019'\n",
    "    Get-Date '01/01/2020'\n",
    ") | ForEach-Object ToString('yyyyMMdd')"
   ]
  },
  {
   "cell_type": "code",
   "execution_count": null,
   "metadata": {},
   "outputs": [],
   "source": [
    "# Parallel\n",
    "\n",
    "1..10 | ForEach-Object -Parallel {\n",
    "    Start-Sleep -Seconds 5\n",
    "    $_\n",
    "}"
   ]
  },
  {
   "cell_type": "markdown",
   "metadata": {},
   "source": [
    "##### Loops #####"
   ]
  },
  {
   "cell_type": "code",
   "execution_count": null,
   "metadata": {},
   "outputs": [],
   "source": [
    "# Labeled break statement\n",
    "\n",
    "    :outerLoop while ($true) {\n",
    "        while ($true) {\n",
    "            Write-Host \"In inner loop\"\n",
    "            break outerLoop\n",
    "        }\n",
    "        Write-Host \"This will not be executed\"\n",
    "    }"
   ]
  },
  {
   "cell_type": "markdown",
   "metadata": {},
   "source": [
    "##### Conditionals #####"
   ]
  },
  {
   "cell_type": "code",
   "execution_count": null,
   "metadata": {},
   "outputs": [],
   "source": [
    "# If\n",
    "\n",
    "    $result = if ($value) {\n",
    "        1\n",
    "    } else {\n",
    "        2\n",
    "    }"
   ]
  },
  {
   "cell_type": "code",
   "execution_count": null,
   "metadata": {},
   "outputs": [],
   "source": [
    "# Ternary\n",
    "\n",
    "    $result = $value ? 1 : 2\n",
    "\n",
    "    (Get-Process notepad -ErrorAction Ignore) ? 'Running' : 'Not running'"
   ]
  },
  {
   "cell_type": "code",
   "execution_count": null,
   "metadata": {},
   "outputs": [],
   "source": [
    "# Switch example 1\n",
    "\n",
    "    $msg = \"Error, the action failed\"\n",
    "\n",
    "    switch ($msg) {\n",
    "        { $_ -like \"Error*\" } { \"Action error\" }\n",
    "        { $_ -like \"Warning*\" } { \"Action warning\" }\n",
    "        { $_ -like \"Successful*\" } { \"Action succesfull\" }\n",
    "    }"
   ]
  },
  {
   "cell_type": "code",
   "execution_count": null,
   "metadata": {},
   "outputs": [],
   "source": [
    "# Switch example 2\n",
    "\n",
    "    $a = 3\n",
    "\n",
    "    switch ($a) {\n",
    "        1 {\"Один\"}\n",
    "        2 {\"Два\"}\n",
    "        3 {\"Три\"; break}\n",
    "        4 {\"Четыре\"}\n",
    "        3 {\"Еще раз три\"}\n",
    "    }\n",
    "    #Три"
   ]
  },
  {
   "cell_type": "code",
   "execution_count": null,
   "metadata": {},
   "outputs": [],
   "source": [
    "# Switch example 3\n",
    "\n",
    "    switch (3) {\n",
    "        1 {\"1\"}\n",
    "        2 {\"2\"}\n",
    "        default {\"none\"}\n",
    "    }"
   ]
  },
  {
   "cell_type": "code",
   "execution_count": null,
   "metadata": {},
   "outputs": [],
   "source": [
    "# Switch example 4\n",
    "\n",
    "    switch -wildcard ('абв') {\n",
    "        'а*' {\"$_ начинается с а\"}\n",
    "        '*в' {\"$_ оканчивается на в\"}\n",
    "    }"
   ]
  },
  {
   "cell_type": "code",
   "execution_count": null,
   "metadata": {},
   "outputs": [],
   "source": [
    "# Switch example 5\n",
    "\n",
    "    switch (10) {\n",
    "        {$_ -gt 5} {\"$_ >5\"}\n",
    "        {$_ -lt 20} {\"$_ <20\"}\n",
    "        10 {\"$_ =10\"}\n",
    "    }"
   ]
  },
  {
   "cell_type": "code",
   "execution_count": null,
   "metadata": {},
   "outputs": [],
   "source": [
    "# Switch example 6\n",
    "\n",
    "    switch -wildcard (dir $env:SystemRoot) {\n",
    "        *.txt {$txt++}\n",
    "        *.log {$log++} \n",
    "    }"
   ]
  },
  {
   "cell_type": "code",
   "execution_count": null,
   "metadata": {},
   "outputs": [],
   "source": [
    "# Switch example 7\n",
    "\n",
    "    switch -wildcard -file $env:SystemRoot\\KB946627.log {\n",
    "        *Source:* {$_}\n",
    "        *Destination:* {$_}\n",
    "    }"
   ]
  },
  {
   "cell_type": "markdown",
   "metadata": {},
   "source": [
    "#### Functions ####"
   ]
  },
  {
   "cell_type": "code",
   "execution_count": null,
   "metadata": {},
   "outputs": [],
   "source": [
    "# Function example 1\n",
    "\n",
    "    function MyFunc { Get-Command -Noun Process }"
   ]
  },
  {
   "cell_type": "code",
   "execution_count": null,
   "metadata": {},
   "outputs": [],
   "source": [
    "# Function example 2 - parameters\n",
    "\n",
    "    function Set-ArchiveFilePath{\n",
    "        [CmdletBinding()]\n",
    "        [OutputType([string])]\n",
    "        param(\n",
    "            [Parameter(Mandatory = $true)]\n",
    "            [string]$ZipPath,\n",
    "            [Parameter(Mandatory = $true)]\n",
    "            [string]$ZipPrefix,\n",
    "            [Parameter(Mandatory = $true)]\n",
    "            [datetime]$Date\n",
    "        )\n",
    "\n",
    "        Write-Host \"this is a function code\"\n",
    "\n",
    "    }"
   ]
  },
  {
   "cell_type": "code",
   "execution_count": null,
   "metadata": {},
   "outputs": [],
   "source": [
    "# Function example 3\n",
    "\n",
    "    function split($items, $splitter) {\n",
    "        ForEach ($item in $items) {\n",
    "            $item -split \"\\$splitter\" \n",
    "        }\n",
    "    }\n",
    "\n",
    "    split 'asd\\f' \\ #asd, f"
   ]
  },
  {
   "cell_type": "code",
   "execution_count": null,
   "metadata": {},
   "outputs": [],
   "source": [
    "# Function example 4\n",
    "\n",
    "    function Output-SalesTax ( $Price, [int]$Tax ) { $Price / $Tax }\n",
    "    \n",
    "    Output-SalesTax -price 1000 -tax 38\n",
    "    Output-SalesTax -tax 38 -price 1000 \n",
    "    Output-SalesTax 1000 38"
   ]
  },
  {
   "cell_type": "code",
   "execution_count": null,
   "metadata": {},
   "outputs": [],
   "source": [
    "# Function example 5\n",
    "\n",
    "    function Get-UserInfo {\n",
    "        param (\n",
    "            [string]$Name,\n",
    "            [int]$Age,\n",
    "            [string]$Email\n",
    "        )\n",
    "\n",
    "        Write-Host \"Name: $Name\"\n",
    "        Write-Host \"Age: $Age\"\n",
    "        Write-Host \"Email: $Email\"\n",
    "    }\n",
    "\n",
    "    Get-UserInfo -Name \"John Doe\" -Age 30 -Email \"john.doe@example.com\""
   ]
  },
  {
   "cell_type": "code",
   "execution_count": null,
   "metadata": {},
   "outputs": [],
   "source": [
    "# Function example 6\n",
    "\n",
    "    function MyFunc ([switch] $recurse) {\n",
    "        if ($recurse) { \"#\"}\n",
    "        else { \"Regular function\" } }\n",
    "    MyFunc -recurse #Recursive function\n",
    "\n",
    "    #Write-host выводит строку на экран, а не в выходной поток, поэтому она не попадет в значение переменной"
   ]
  },
  {
   "cell_type": "code",
   "execution_count": null,
   "metadata": {},
   "outputs": [],
   "source": [
    "Pipeline to a function\n",
    "\n",
    "    Если в функцию могут поступать какие-либо параметры по конвейеру, то в ней\n",
    "    обязательно нужно Определить раздел Process.\n",
    "    Для эффективного\n",
    "    использования конвейеров возвращать значения в расширенных функциях следует\n",
    "    в разделе Process (напомним, что он выполняется каждый раз при получении по\n",
    "    конвейеру нового объекта), а не в разделах Begin или End\n",
    "    В расширенных функциях всегда нужно указывать атрибут [CmdietBindingO ],\n",
    "    в этом случае функция будет вести себя как командлет, в том числе будет поддерживать\n",
    "    флаги -verbose (вывод подробной информации о выполняемых командах)\n",
    "    и -Debug (вывод отладочной информации)."
   ]
  },
  {
   "cell_type": "code",
   "execution_count": null,
   "metadata": {},
   "outputs": [],
   "source": [
    "# Pipeline to a function\n",
    "\n",
    "    function ProcessFiles {\n",
    "        param (\n",
    "            [string]$Prefix\n",
    "        )\n",
    "        \n",
    "        process {\n",
    "            # Example action: Write the name of each file with the prefix\n",
    "            Write-Host \"$($Prefix): $($_.Name)\"\n",
    "        }\n",
    "    }\n",
    "    \n",
    "    Get-ChildItem | ProcessFiles -Prefix \"File\""
   ]
  },
  {
   "cell_type": "code",
   "execution_count": null,
   "metadata": {},
   "outputs": [],
   "source": [
    "# Filter function to be used in a pipeline\n",
    "\n",
    "    filter FileSizeBelow($size) { if ($_.length -le $size) { $_ } }\n",
    "    gci C:\\Windows | FileSizeBelow 200kb"
   ]
  },
  {
   "cell_type": "code",
   "execution_count": null,
   "metadata": {},
   "outputs": [],
   "source": [
    "When returning data from a function, it is best to save it to a variable in the function\n",
    "and have just that variable on the last line of the function"
   ]
  },
  {
   "cell_type": "code",
   "execution_count": null,
   "metadata": {},
   "outputs": [],
   "source": [
    "# Lambda / Script-block - 1\n",
    "\n",
    "    $alert = { \"Hello World\" }\n",
    "    & $alert"
   ]
  },
  {
   "cell_type": "code",
   "execution_count": null,
   "metadata": {},
   "outputs": [],
   "source": [
    "Lambda / Script-block - 2\n",
    "\n",
    "Each time the scriptblock is run; it will dynamically read the current value of the variable.\n",
    "When a scriptblock is run using the “&” (call) operator, updates to a variable are not reflected in the parent scope.\n",
    "When a scriptblock is run using the “.” (dot) operator, updates to a variable apply to the current scope.\n",
    "Begin {}, Process {} and End {} blocks can be added to a scriptblock, just like a function"
   ]
  },
  {
   "cell_type": "code",
   "execution_count": null,
   "metadata": {},
   "outputs": [],
   "source": [
    "# Lambda / Script-block - 3\n",
    "\n",
    "    $add = { param($a, $b) $a + $b }\n",
    "    $result = &$add 5 3\n",
    "    Write-Host \"Result: $result\"\n",
    "\n",
    "    $add = { 3 + 5 }\n",
    "    $result = &$add\n",
    "    Write-Host \"Result: $result\""
   ]
  },
  {
   "cell_type": "markdown",
   "metadata": {},
   "source": [
    "#### Meta ####"
   ]
  },
  {
   "cell_type": "code",
   "execution_count": null,
   "metadata": {},
   "outputs": [],
   "source": [
    "# Alias\n",
    "\n",
    "    Set-Alias list Get-Location\n",
    "    Set-Alias np c:\\windows\\notepad.exe\n",
    "    Get-Alias"
   ]
  },
  {
   "cell_type": "code",
   "execution_count": null,
   "metadata": {},
   "outputs": [],
   "source": [
    "# Methods\n",
    "\n",
    "    $methodName = \"ToUpper\"\n",
    "    $object = \"hello\"\n",
    "    $object.GetType().GetMethod($methodName).Invoke($object, $null)\n",
    "\n",
    "    $method = [scriptblock]::Create('\"hello\".ToUpper()')\n",
    "    & $method"
   ]
  },
  {
   "cell_type": "markdown",
   "metadata": {},
   "source": [
    "#### Other ####"
   ]
  },
  {
   "cell_type": "code",
   "execution_count": null,
   "metadata": {},
   "outputs": [],
   "source": [
    "### Working with PSDrives and Providers\n",
    "\n",
    "    Get-PSDrive\n",
    "    Get-PSProvider\n",
    "\n",
    "    Get-ChildItem #dir, ls\n",
    "    Get-ChildItem registry::\n",
    "\n",
    "    New-PSDrive -Name docs -PSProvider FileSystem -Root C:\\Users\\\n",
    "\n",
    "    New-Item\n",
    "\n",
    "    Remove-Item"
   ]
  },
  {
   "cell_type": "code",
   "execution_count": null,
   "metadata": {},
   "outputs": [],
   "source": [
    "# Working with files\n",
    "\n",
    "    Get-Content file.txt | \n",
    "        Where-Object { $_ -eq 'first' } | \n",
    "    Set-Content file.txt\n",
    "#Set-Content: The process cannot access the file 'C:\\temp\\file.txt' because it \n",
    "#is being used by another process.\n",
    "\n",
    "#This can be avoided by ensuring that all content is read before the pipeline starts. This can be achieved \n",
    "#by enclosing the fi rst command in the pipeline in brackets: \n",
    "\n",
    "    (Get-Content file.txt) | \n",
    "        Where-Object { $_ -eq 'first' } | \n",
    "    Set-Content file.txt\n",
    "\n",
    "#Raw parameter reads the entire file as a single string\n",
    "#The Get-Content command is slow when reading from large fi les without the Raw parameter. "
   ]
  },
  {
   "cell_type": "code",
   "execution_count": null,
   "metadata": {},
   "outputs": [],
   "source": [
    "# Self-Update\n",
    "\n",
    "    Copy-Item -Path $ScriptUpdateLocation -Destination $mypath -Force\n",
    "    Get-Content $ScriptUpdateLocation -Raw | Set-Content $PSCommandPath\n",
    "    #$scriptContent | Out-File -FilePath \"$PSScriptRoot\\Check_SQL_Logins_Fixed.ps1\" -Encoding utf8\n",
    "    Invoke-Expression -Command $scriptContent"
   ]
  },
  {
   "cell_type": "code",
   "execution_count": null,
   "metadata": {},
   "outputs": [],
   "source": [
    "# Bonus\n",
    "\n",
    "    ( 392, 330, 349, 247, 330, 349, 392, 330 ) | ForEach { [Console]::Beep( $_, 500 ) } # use 32767 for pauses"
   ]
  }
 ],
 "metadata": {
  "kernelspec": {
   "display_name": ".NET (PowerShell)",
   "language": "PowerShell",
   "name": ".net-pwsh"
  },
  "polyglot_notebook": {
   "kernelInfo": {
    "defaultKernelName": "pwsh",
    "items": [
     {
      "aliases": [],
      "languageName": "pwsh",
      "name": "pwsh"
     }
    ]
   }
  }
 },
 "nbformat": 4,
 "nbformat_minor": 2
}
